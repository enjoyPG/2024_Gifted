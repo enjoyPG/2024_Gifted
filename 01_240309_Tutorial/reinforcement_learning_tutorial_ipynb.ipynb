{
  "cells": [
    {
      "cell_type": "markdown",
      "metadata": {
        "id": "view-in-github",
        "colab_type": "text"
      },
      "source": [
        "<a href=\"https://colab.research.google.com/github/enjoyPG/2024_Gifted/blob/main/01_240309_Tutorial/reinforcement_learning_tutorial_ipynb.ipynb\" target=\"_parent\"><img src=\"https://colab.research.google.com/assets/colab-badge.svg\" alt=\"Open In Colab\"/></a>"
      ]
    },
    {
      "cell_type": "markdown",
      "metadata": {
        "id": "w2BsaXtWqpAp"
      },
      "source": [
        "# 강화 학습 맛보기\n",
        "\n",
        "강화 학습 수업에 오신 여러분을 진심으로 환영합니다!\n",
        "\n",
        "여러분이 앞으로 1년 동안 배우게 될 강화 학습은 인공지능 분야 중에서도 가장 독특하고 유용한 기술입니다.\n",
        "아마 다른 어떤 수업에서도 경험하지 못할 재미있고 유익한 경험이 될 거에요."
      ]
    },
    {
      "cell_type": "markdown",
      "metadata": {
        "id": "yPaT76WHqrUV"
      },
      "source": [
        "## 강화 학습 내용 훑어보기\n",
        "\n",
        "강화 학습은 시행착오를 거치며 경험을 통해 적절한 행동 방식을 배워나가는 과정입니다. \"당근과 채찍\" 전략을 생각하면 쉽습니다. 여러분이 좋은 행동을 하면 당근을, 나쁜 행동을 하면 채찍질을 주는 것이 바로 강화 학습입니다. 이 당근과 채찍을 통틀어 강화 학습에서는 \"보상\"이라고 부릅니다. 강화 학습의 가장 중요한 요소 중 하나가 바로 이 보상입니다.\n",
        "\n",
        "![](https://s3-ap-northeast-2.amazonaws.com/opentutorials-user-file/module/4916/12365.jpeg)\n",
        "\n",
        "강화 학습의 또 다른 중요한 요소는 바로 끊임없이 변화하는 환경의 상태입니다. 어러분이 취하는 행동은 여러분 주변의 환경을 변화시킵니다. 여러분은 이 끊임없이 변화하는 환경 속에서 계속 보상을 최대한 취할 수 있도록 노력해야합니다. 이 과정이 바로 강화 학습의 과정과 많이 닮아있습니다.\n",
        "\n"
      ]
    },
    {
      "cell_type": "markdown",
      "metadata": {
        "id": "94yhPKFYquQw"
      },
      "source": [
        "## 강화 학습 예제 경험하기\n",
        "\n",
        "강화 학습이 어떤 문제를 풀 수 있는지 한번 살펴볼까요?\n",
        "\n",
        "사실 강화 학습은 우리 주변에서 흔히 접할 수 있는 대부분의 문제를 다 풀 수 있는 아주 유용한 기술입니다. 로봇을 조종하는 것부터 시작해서, 자율 주행, 주식 투자, 심지어는 최근에 각광받는 ChatGPT 역시 강화 학습 기술이 사용되었습니다. 우리가 일상 생활에서 상벌의 개념을 생각할 수 있는 거의 모든 문제를 강화 학습으로 풀 수 있습니다."
      ]
    },
    {
      "cell_type": "code",
      "execution_count": 54,
      "metadata": {
        "id": "t3e7d7NMlQPE"
      },
      "outputs": [],
      "source": [
        "%%capture\n",
        "!pip install -U ray[rllib]\n",
        "!pip install gputil\n",
        "!pip install ipython==7.10.0\n",
        "!pip install moviepy\n",
        "!pip install gymnasium[classic-control]"
      ]
    },
    {
      "cell_type": "code",
      "execution_count": 55,
      "metadata": {
        "id": "zk7kE26_lTjF"
      },
      "outputs": [],
      "source": [
        "from __future__ import absolute_import\n",
        "from __future__ import division\n",
        "from __future__ import print_function\n",
        "\n",
        "import ray\n",
        "import numpy as np\n",
        "import gymnasium as gym\n",
        "\n",
        "import warnings\n",
        "warnings.filterwarnings('ignore')\n",
        "\n",
        "from IPython.display import HTML\n",
        "from base64 import b64encode\n",
        "from gymnasium.wrappers import RecordVideo\n",
        "\n",
        "\n",
        "def view_video(filename):\n",
        "    video = f'video/{filename}-episode-0.mp4'\n",
        "    mp4 = open(video,'rb').read()\n",
        "    data_url = \"data:video/mp4;base64,\" + b64encode(mp4).decode()\n",
        "\n",
        "    return HTML(\"\"\"\n",
        "    <video width=400 controls>\n",
        "          <source src=\"%s\" type=\"video/mp4\">\n",
        "    </video>\n",
        "    \"\"\" % data_url)"
      ]
    },
    {
      "cell_type": "markdown",
      "metadata": {
        "id": "5_OKJ8jCqxuQ"
      },
      "source": [
        "### 환경 정의하기\n",
        "\n",
        "오늘 수업 시간에는 강화 학습에서 가장 단순하고 유명한 예제 중 하나인 \"Mountain Car\" 문제를 직접 풀어볼 것입니다. 이 문제에서 여러분의 목표는 산 정상의 깃발에 도달하는 것입니다.\n",
        "여러분은 오른쪽 또는 왼쪽으로 가속하는 페달을 밟거나, 페달을 밟지 않는 선택을 할 수 있습니다.\n",
        "산 정상까지 올라가려면 페달을 적절히 밟아야 합니다. 하지만 산의 경사가 너무 가파르기 때문에, 아무리 밟아도 중력 때문에 올라가지 못할 수도 있습니다.\n",
        "\n",
        "![](https://www.gymlibrary.dev/_images/mountain_car.gif)\n",
        "\n",
        "먼저, 이 환경에서 여러분이 취할 수 있는 행동은 다음과 같이 표현할 수 있습니다:\n",
        "\n",
        "0: 왼쪽으로 가속하는 페달 밟기\n",
        "\n",
        "1: 페달 밟지 않기\n",
        "\n",
        "2: 오른쪽으로 가속하는 페달 밟기"
      ]
    },
    {
      "cell_type": "code",
      "execution_count": 56,
      "metadata": {
        "id": "X25O_F-BlbXG",
        "colab": {
          "base_uri": "https://localhost:8080/"
        },
        "outputId": "fbcacf8d-6870-44db-fa14-2e27f1942b6e"
      },
      "outputs": [
        {
          "output_type": "stream",
          "name": "stdout",
          "text": [
            "Created env: <TimeLimit<OrderEnforcing<PassiveEnvChecker<MountainCarEnv<MountainCar-v0>>>>>\n",
            "Available actions: Discrete(3)\n"
          ]
        }
      ],
      "source": [
        "env = gym.make('MountainCar-v0')\n",
        "print('Created env:', env)\n",
        "print('Available actions:', env.action_space)"
      ]
    },
    {
      "cell_type": "markdown",
      "metadata": {
        "id": "akk0otr33Nhz"
      },
      "source": [
        "다음으로, 이 환경에서 받을 수 있는 상태에 대한 정보는 $s_{t} = (x_{t}, v_{t})$입니다.\n",
        "즉, 여러분이 받는 상태 정보 $s_{t}$는 $x$축 방향에서의 현재 위치 $x_{t}$와 속도 $v_{t}$입니다.\n",
        "\n",
        "$x$축 방향의 좌표는 $(-1.2, 0.6)$ 사이이고, 속도 $v$는 (-0.07, 0.07) 사이입니다."
      ]
    },
    {
      "cell_type": "code",
      "execution_count": 57,
      "metadata": {
        "id": "6XWStLA-ldOd",
        "colab": {
          "base_uri": "https://localhost:8080/"
        },
        "outputId": "956eebc1-9460-4177-f563-64b78964b46f"
      },
      "outputs": [
        {
          "output_type": "stream",
          "name": "stdout",
          "text": [
            "Observation space: Box([-1.2  -0.07], [0.6  0.07], (2,), float32)\n",
            "The starting state is: [-0.57496613  0.        ]\n"
          ]
        }
      ],
      "source": [
        "state, _ = env.reset()\n",
        "print('Observation space:', env.observation_space)   #환경의 x 좌표는 -1.2부터 0.6까지 속도는 -0.07, 0.07까지\n",
        "print('The starting state is:', state) #좌표, 속도"
      ]
    },
    {
      "cell_type": "markdown",
      "metadata": {
        "id": "mESkrSv53Nh0"
      },
      "source": [
        "여러분이 어떤 행동을 선택하면, 다음과 같이 환경의 상태가 변화합니다.\n",
        "\n",
        "$v_{t+1} = v_{t} + (\\mathrm{action} - 1) * F - \\cos(3 * x_{t}) * mg$\n",
        "\n",
        "$x_{t+1} = x_{t} + v_{t+1}$\n",
        "\n",
        "여기서 $F$는 페달을 밟을 때 가속하는 힘 $F = 0.001$이고, 중력 $mg = 0.0025$입니다."
      ]
    },
    {
      "cell_type": "code",
      "execution_count": 58,
      "metadata": {
        "id": "DKYtgu-blgGL",
        "colab": {
          "base_uri": "https://localhost:8080/"
        },
        "outputId": "2d5a09c2-0352-4856-9321-a1631e153277"
      },
      "outputs": [
        {
          "output_type": "stream",
          "name": "stdout",
          "text": [
            "State: [-0.5755824  -0.00061627]\n",
            "Reward: -1.0\n",
            "Done: False\n"
          ]
        }
      ],
      "source": [
        "action = 0 #Agent가 왼쪽으로 가는 행동을 선택\n",
        "\n",
        "#행동을 선택하고 난 후 다음 상태 보상 환경이 끝났는지에 대한 정보 제공\n",
        "state, reward, done, _, _ = env.step(action)\n",
        "print(f\"State: {state}\") #[다음 x축 좌표, 다음 속도]\n",
        "print(f\"Reward: {reward}\") #[다음 보상]\n",
        "print(f\"Done: {done}\") #[환경 종료 여부]"
      ]
    },
    {
      "cell_type": "markdown",
      "metadata": {
        "id": "GCUIOuWYq0Nq"
      },
      "source": [
        "### 인공지능 정책 정의하기\n",
        "\n",
        "강화 학습에서 정책은 인공지능의 두뇌입니다. 인공지능이 변화하는 환경 속에서 어떻게 행동할지를 결정하는 지침으로 생각할 수 있습니다. 가장 단순한 형태의 정책으로는 여러분이 취할 수 있는 행동 중에서 아무거나 (샘플링하여) 고르는 것이 있겠습니다."
      ]
    },
    {
      "cell_type": "code",
      "execution_count": 59,
      "metadata": {
        "id": "1o18p51sq0lv"
      },
      "outputs": [],
      "source": [
        "#기본 랜덤 정책\n",
        "class RandomPolicy():\n",
        "    # 클래스 선언\n",
        "    def __init__(self, action_space): #행동 공간에 대한 정보 저장\n",
        "        self.action_space = action_space\n",
        "    #클래스 호출 함수\n",
        "    def __call__(self, state): #상태 state를 받았을 때, 어떤 행동을 취할 지 결정하는 함수, 여기서는 랜덤하게 선택\n",
        "        return self.action_space.sample()"
      ]
    },
    {
      "cell_type": "code",
      "source": [
        "#나의 정책\n",
        "#x 축 방향의 좌표는 (−1.2,0.6) 사이이고, 속도 v는 (-0.07, 0.07) 사이입니다\n",
        "first = True\n",
        "end = True\n",
        "class MyPolicy():\n",
        "\n",
        "  def __init__(self, action_space):\n",
        "    self.action_space = action_space\n",
        "\n",
        "    self.start_position = action_space = -0.6\n",
        "\n",
        "  #페달을 밟고 있는데 안 움직이면 방향을 전환하는 방법\n",
        "  def __call__(self, state):\n",
        "    #state = [x축 방향 위치, x축 방향 속도]\n",
        "    global first\n",
        "    global end\n",
        "    x, v = state\n",
        " #   print(f'v={v}')\n",
        "    if v >= 0 and end == True:\n",
        "      first = False\n",
        "      next_action = 2\n",
        "      if v==0 and first==False:\n",
        "        end = False\n",
        "      else:\n",
        "        return next_action\n",
        "\n",
        "    if v == 0:\n",
        "      if x< self.start_position:\n",
        "        my_action = 0\n",
        "        next_action = 2\n",
        "      elif x>self.start_position:\n",
        "        my_action = 2\n",
        "        next_action = 0\n",
        "      else:\n",
        "        my_action = 1\n",
        "        next_action = 2\n",
        "    if v<0:\n",
        "      next_action = 0\n",
        "    if v>0:\n",
        "      next_action = 2\n",
        "\n",
        "\n",
        "    return next_action"
      ],
      "metadata": {
        "id": "N0b50fFbnx4q"
      },
      "execution_count": 60,
      "outputs": []
    },
    {
      "cell_type": "markdown",
      "metadata": {
        "id": "WBvVYPQrq3h_"
      },
      "source": [
        "### 환경과 상호작용하기\n",
        "\n",
        "정책이 있다면, 여러분은 주어진 상황에서 어떤 행동을 취해야 할지 결정할 수 있습니다. 그럼 이제 본격적으로 환경 속에 들어가서 직접 부딪혀볼까요?\n",
        "\n",
        "여러분이 어떤 행동을 취하면, 환경은 여러분에게 보상을 줍니다. 이 보상은 여러분이 좋은 행동을 했는지, 나쁜 행동을 했는지 알려주는 값입니다. 그리고 여러분이 취한 행동에 따라 환경은 변화하고, 이 변화한 환경을 여러분은 다시 관찰할 수 있습니다. 그리고 여러분은 또다시 (여러분이 관찰한 결과를 토대로) 어떤 행동을 취할지 결정합니다. 강화 학습은 이 과정을 반복하며 진행됩니다."
      ]
    },
    {
      "cell_type": "code",
      "execution_count": 61,
      "metadata": {
        "id": "mwtH_tezxFYm",
        "colab": {
          "base_uri": "https://localhost:8080/",
          "height": 486
        },
        "outputId": "fb03f2bf-d1b6-4243-d179-61ba423abc3c"
      },
      "outputs": [
        {
          "output_type": "stream",
          "name": "stdout",
          "text": [
            "Moviepy - Building video /content/video/random-agent-episode-0.mp4.\n",
            "Moviepy - Writing video /content/video/random-agent-episode-0.mp4\n",
            "\n"
          ]
        },
        {
          "output_type": "stream",
          "name": "stderr",
          "text": [
            "                                                  "
          ]
        },
        {
          "output_type": "stream",
          "name": "stdout",
          "text": [
            "Moviepy - Done !\n",
            "Moviepy - video ready /content/video/random-agent-episode-0.mp4\n"
          ]
        },
        {
          "output_type": "stream",
          "name": "stderr",
          "text": [
            "\r"
          ]
        },
        {
          "output_type": "stream",
          "name": "stdout",
          "text": [
            "Moviepy - Building video /content/video/random-agent-episode-0.mp4.\n",
            "Moviepy - Writing video /content/video/random-agent-episode-0.mp4\n",
            "\n"
          ]
        },
        {
          "output_type": "stream",
          "name": "stderr",
          "text": [
            "                                                               "
          ]
        },
        {
          "output_type": "stream",
          "name": "stdout",
          "text": [
            "Moviepy - Done !\n",
            "Moviepy - video ready /content/video/random-agent-episode-0.mp4\n",
            "157번째 성공!\n"
          ]
        },
        {
          "output_type": "stream",
          "name": "stderr",
          "text": [
            "\r"
          ]
        },
        {
          "output_type": "execute_result",
          "data": {
            "text/plain": [
              "<IPython.core.display.HTML object>"
            ],
            "text/html": [
              "\n",
              "    <video width=400 controls>\n",
              "          <source src=\"data:video/mp4;base64,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\" type=\"video/mp4\">\n",
              "    </video>\n",
              "    "
            ]
          },
          "metadata": {},
          "execution_count": 61
        }
      ],
      "source": [
        "env = gym.make(\"MountainCar-v0\", render_mode=\"rgb_array\") # 환경을 생성\n",
        "env = RecordVideo(env, 'video', name_prefix='random-agent') # 비디오 저장\n",
        "\n",
        "#agent = RandomPolicy(env.action_space) #정책 불러오기\n",
        "agent = MyPolicy(env.action_space) #정책 불러오기\n",
        "state, _ = env.reset() #환경 초기화\n",
        "env.start_video_recorder() #비디오 저장\n",
        "\n",
        "#100번 동안 상호작용\n",
        "#for t in range(1000):\n",
        "time=0\n",
        "done = False\n",
        "while done == False:\n",
        "    time += 1\n",
        "    action = agent(state) #상태 정보를 받아서 행동 결정\n",
        "    state, reward, done, _, _ = env.step(action) #행동에 의해 상태 변화\\\n",
        "    env.render() #비디오 촬영\n",
        "print(f'{time}번째 성공!')\n",
        "\n",
        "env.close()\n",
        "view_video('random-agent')"
      ]
    },
    {
      "cell_type": "markdown",
      "metadata": {
        "id": "3nSS-EoM3Nh1"
      },
      "source": [
        "### BONUS: 강화 학습 에이전트 학습하기"
      ]
    },
    {
      "cell_type": "code",
      "execution_count": null,
      "metadata": {
        "id": "MxmeXv3xlrgD",
        "colab": {
          "base_uri": "https://localhost:8080/"
        },
        "outputId": "f904b0bc-6117-40e7-c62d-16830dbbf606"
      },
      "outputs": [
        {
          "output_type": "stream",
          "name": "stderr",
          "text": [
            "2024-03-09 06:32:05,156\tINFO worker.py:1724 -- Started a local Ray instance.\n"
          ]
        }
      ],
      "source": [
        "%%capture\n",
        "from ray.rllib.algorithms.ppo import PPOConfig\n",
        "from ray.tune.logger import pretty_print\n",
        "\n",
        "algo = (\n",
        "    PPOConfig()\n",
        "    .rollouts(num_rollout_workers=1)\n",
        "    .resources(num_gpus=1)\n",
        "    .environment(env=\"MountainCar-v0\")\n",
        "    .build()\n",
        ")\n",
        "\n",
        "for i in range(2):\n",
        "    algo.train()"
      ]
    },
    {
      "cell_type": "code",
      "execution_count": null,
      "metadata": {
        "id": "Wlsvax9I3Nh2"
      },
      "outputs": [],
      "source": [
        "env = gym.make(\"MountainCar-v0\", render_mode=\"rgb_array\")\n",
        "env = RecordVideo(env, 'video', name_prefix='ppo-agent')\n",
        "\n",
        "state, _ = env.reset()\n",
        "env.start_video_recorder()\n",
        "\n",
        "for t in range(100):\n",
        "    action = algo.compute_single_action(state)\n",
        "    state, reward, done, _, _ = env.step(action)\n",
        "    env.render()\n",
        "\n",
        "env.close()\n",
        "view_video('ppo-agent')"
      ]
    },
    {
      "cell_type": "markdown",
      "metadata": {
        "id": "k3AxNEO33Nh2"
      },
      "source": [
        "# 강화 학습 환경 직접 만져보기"
      ]
    },
    {
      "cell_type": "markdown",
      "metadata": {
        "id": "_icf0Z8d3Nh2"
      },
      "source": [
        "### 블랙잭"
      ]
    },
    {
      "cell_type": "code",
      "source": [
        "https://gymnasium.farama.org/environments/toy_text/blackjack/#blackjack"
      ],
      "metadata": {
        "id": "IAuUFq_20HHE"
      },
      "execution_count": null,
      "outputs": []
    },
    {
      "cell_type": "code",
      "execution_count": null,
      "metadata": {
        "id": "K_ASFOJm3Nh2"
      },
      "outputs": [],
      "source": [
        "# Create the Blackjack environment\n",
        "env = gym.make('Blackjack-v0')\n",
        "\n",
        "# Reset the environment\n",
        "state = env.reset()\n",
        "\n",
        "done = False\n",
        "while not done:\n",
        "    # Choose a random action\n",
        "    action = ???\n",
        "\n",
        "    # Take a step in the environment\n",
        "    state, reward, done, info = env.step(action)\n",
        "\n",
        "    # Print the current state, reward, and whether the episode is done\n",
        "    print('State:', state)\n",
        "    print('Reward:', reward)\n",
        "    print('Done:', done)\n",
        "\n",
        "# Close the environment\n",
        "env.close()\n"
      ]
    },
    {
      "cell_type": "markdown",
      "metadata": {
        "id": "8MJq9f7M3Nh3"
      },
      "source": [
        "### Tic-Tac-Toe"
      ]
    },
    {
      "cell_type": "code",
      "execution_count": null,
      "metadata": {
        "id": "03_EWc543Nh3"
      },
      "outputs": [],
      "source": [
        "import numpy as np\n",
        "import gymnasium as gym\n",
        "from gymnasium import spaces\n",
        "\n",
        "class TicTacToeEnv(gym.Env):\n",
        "    def __init__(self):\n",
        "        self.board = np.zeros((3, 3), dtype=int)\n",
        "        self.current_player = 1\n",
        "        self.action_space = spaces.Discrete(9)\n",
        "        self.observation_space = spaces.Box(low=0, high=1, shape=(3, 3), dtype=int)\n",
        "\n",
        "    def reset(self):\n",
        "        self.board = np.zeros((3, 3), dtype=int)\n",
        "        self.current_player = 1\n",
        "        return self.board\n",
        "\n",
        "    def step(self, action):\n",
        "        row = action // 3\n",
        "        col = action % 3\n",
        "\n",
        "        if self.board[row, col] != 0:\n",
        "            return self.board, -1, False, False, {}\n",
        "\n",
        "        self.board[row, col] = self.current_player\n",
        "\n",
        "        if self._check_winner(self.current_player):\n",
        "            return self.board, 1, True, False, {}\n",
        "\n",
        "        if np.count_nonzero(self.board) == 9:\n",
        "            return self.board, 0, True, False, {}\n",
        "\n",
        "        self.current_player = -self.current_player\n",
        "        return self.board, 0, False, False, {}\n",
        "\n",
        "    def render(self):\n",
        "        print(self.board)\n",
        "\n",
        "    def _check_winner(self, player):\n",
        "        for i in range(3):\n",
        "            if np.all(self.board[i, :] == player) or np.all(self.board[:, i] == player):\n",
        "                return True\n",
        "        if np.all(np.diag(self.board) == player) or np.all(np.diag(np.fliplr(self.board)) == player):\n",
        "            return True\n",
        "        return False"
      ]
    },
    {
      "cell_type": "code",
      "execution_count": null,
      "metadata": {
        "id": "rIf7lpfe3Nh3"
      },
      "outputs": [],
      "source": [
        "env = TicTacToeEnv()\n",
        "state = env.reset()\n",
        "env.render()\n",
        "\n",
        "done = False\n",
        "while not done:\n",
        "    action = ?????\n",
        "    state, reward, done, _ = env.step(action)\n",
        "    env.render()"
      ]
    }
  ],
  "metadata": {
    "accelerator": "GPU",
    "colab": {
      "gpuType": "T4",
      "provenance": [],
      "include_colab_link": true
    },
    "kernelspec": {
      "display_name": "Python 3",
      "name": "python3"
    },
    "language_info": {
      "codemirror_mode": {
        "name": "ipython",
        "version": 3
      },
      "file_extension": ".py",
      "mimetype": "text/x-python",
      "name": "python",
      "nbconvert_exporter": "python",
      "pygments_lexer": "ipython3",
      "version": "3.9.6"
    }
  },
  "nbformat": 4,
  "nbformat_minor": 0
}