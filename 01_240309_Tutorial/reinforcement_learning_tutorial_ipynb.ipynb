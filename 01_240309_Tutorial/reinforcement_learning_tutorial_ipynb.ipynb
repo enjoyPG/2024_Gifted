{
  "cells": [
    {
      "cell_type": "markdown",
      "metadata": {
        "id": "view-in-github",
        "colab_type": "text"
      },
      "source": [
        "<a href=\"https://colab.research.google.com/github/enjoyPG/2024_Gifted/blob/main/01_240309_Tutorial/reinforcement_learning_tutorial_ipynb.ipynb\" target=\"_parent\"><img src=\"https://colab.research.google.com/assets/colab-badge.svg\" alt=\"Open In Colab\"/></a>"
      ]
    },
    {
      "cell_type": "markdown",
      "metadata": {
        "id": "w2BsaXtWqpAp"
      },
      "source": [
        "# 강화 학습 맛보기\n",
        "\n",
        "강화 학습 수업에 오신 여러분을 진심으로 환영합니다!\n",
        "\n",
        "여러분이 앞으로 1년 동안 배우게 될 강화 학습은 인공지능 분야 중에서도 가장 독특하고 유용한 기술입니다.\n",
        "아마 다른 어떤 수업에서도 경험하지 못할 재미있고 유익한 경험이 될 거에요."
      ]
    },
    {
      "cell_type": "markdown",
      "metadata": {
        "id": "yPaT76WHqrUV"
      },
      "source": [
        "## 강화 학습 내용 훑어보기\n",
        "\n",
        "강화 학습은 시행착오를 거치며 경험을 통해 적절한 행동 방식을 배워나가는 과정입니다. \"당근과 채찍\" 전략을 생각하면 쉽습니다. 여러분이 좋은 행동을 하면 당근을, 나쁜 행동을 하면 채찍질을 주는 것이 바로 강화 학습입니다. 이 당근과 채찍을 통틀어 강화 학습에서는 \"보상\"이라고 부릅니다. 강화 학습의 가장 중요한 요소 중 하나가 바로 이 보상입니다.\n",
        "\n",
        "![](https://s3-ap-northeast-2.amazonaws.com/opentutorials-user-file/module/4916/12365.jpeg)\n",
        "\n",
        "강화 학습의 또 다른 중요한 요소는 바로 끊임없이 변화하는 환경의 상태입니다. 어러분이 취하는 행동은 여러분 주변의 환경을 변화시킵니다. 여러분은 이 끊임없이 변화하는 환경 속에서 계속 보상을 최대한 취할 수 있도록 노력해야합니다. 이 과정이 바로 강화 학습의 과정과 많이 닮아있습니다.\n",
        "\n"
      ]
    },
    {
      "cell_type": "markdown",
      "metadata": {
        "id": "94yhPKFYquQw"
      },
      "source": [
        "## 강화 학습 예제 경험하기\n",
        "\n",
        "강화 학습이 어떤 문제를 풀 수 있는지 한번 살펴볼까요?\n",
        "\n",
        "사실 강화 학습은 우리 주변에서 흔히 접할 수 있는 대부분의 문제를 다 풀 수 있는 아주 유용한 기술입니다. 로봇을 조종하는 것부터 시작해서, 자율 주행, 주식 투자, 심지어는 최근에 각광받는 ChatGPT 역시 강화 학습 기술이 사용되었습니다. 우리가 일상 생활에서 상벌의 개념을 생각할 수 있는 거의 모든 문제를 강화 학습으로 풀 수 있습니다."
      ]
    },
    {
      "cell_type": "code",
      "execution_count": 9,
      "metadata": {
        "id": "t3e7d7NMlQPE"
      },
      "outputs": [],
      "source": [
        "%%capture\n",
        "!pip install -U ray[rllib]\n",
        "!pip install gputil\n",
        "!pip install ipython==7.10.0\n",
        "!pip install moviepy\n",
        "!pip install gymnasium[classic-control]"
      ]
    },
    {
      "cell_type": "code",
      "execution_count": 10,
      "metadata": {
        "id": "zk7kE26_lTjF"
      },
      "outputs": [],
      "source": [
        "from __future__ import absolute_import\n",
        "from __future__ import division\n",
        "from __future__ import print_function\n",
        "\n",
        "import ray\n",
        "import numpy as np\n",
        "import gymnasium as gym\n",
        "\n",
        "import warnings\n",
        "warnings.filterwarnings('ignore')\n",
        "\n",
        "from IPython.display import HTML\n",
        "from base64 import b64encode\n",
        "from gymnasium.wrappers import RecordVideo\n",
        "\n",
        "\n",
        "def view_video(filename):\n",
        "    video = f'video/{filename}-episode-0.mp4'\n",
        "    mp4 = open(video,'rb').read()\n",
        "    data_url = \"data:video/mp4;base64,\" + b64encode(mp4).decode()\n",
        "\n",
        "    return HTML(\"\"\"\n",
        "    <video width=400 controls>\n",
        "          <source src=\"%s\" type=\"video/mp4\">\n",
        "    </video>\n",
        "    \"\"\" % data_url)"
      ]
    },
    {
      "cell_type": "markdown",
      "metadata": {
        "id": "5_OKJ8jCqxuQ"
      },
      "source": [
        "### 환경 정의하기\n",
        "\n",
        "오늘 수업 시간에는 강화 학습에서 가장 단순하고 유명한 예제 중 하나인 \"Mountain Car\" 문제를 직접 풀어볼 것입니다. 이 문제에서 여러분의 목표는 산 정상의 깃발에 도달하는 것입니다.\n",
        "여러분은 오른쪽 또는 왼쪽으로 가속하는 페달을 밟거나, 페달을 밟지 않는 선택을 할 수 있습니다.\n",
        "산 정상까지 올라가려면 페달을 적절히 밟아야 합니다. 하지만 산의 경사가 너무 가파르기 때문에, 아무리 밟아도 중력 때문에 올라가지 못할 수도 있습니다.\n",
        "\n",
        "![](https://www.gymlibrary.dev/_images/mountain_car.gif)\n",
        "\n",
        "먼저, 이 환경에서 여러분이 취할 수 있는 행동은 다음과 같이 표현할 수 있습니다:\n",
        "\n",
        "0: 왼쪽으로 가속하는 페달 밟기\n",
        "\n",
        "1: 페달 밟지 않기\n",
        "\n",
        "2: 오른쪽으로 가속하는 페달 밟기"
      ]
    },
    {
      "cell_type": "code",
      "execution_count": 11,
      "metadata": {
        "id": "X25O_F-BlbXG",
        "colab": {
          "base_uri": "https://localhost:8080/"
        },
        "outputId": "88fe00bf-9ec5-4458-a79a-d5641a9b1dc8"
      },
      "outputs": [
        {
          "output_type": "stream",
          "name": "stdout",
          "text": [
            "Created env: <TimeLimit<OrderEnforcing<PassiveEnvChecker<MountainCarEnv<MountainCar-v0>>>>>\n",
            "Available actions: Discrete(3)\n"
          ]
        }
      ],
      "source": [
        "env = gym.make('MountainCar-v0')\n",
        "print('Created env:', env)\n",
        "print('Available actions:', env.action_space)"
      ]
    },
    {
      "cell_type": "markdown",
      "metadata": {
        "id": "akk0otr33Nhz"
      },
      "source": [
        "다음으로, 이 환경에서 받을 수 있는 상태에 대한 정보는 $s_{t} = (x_{t}, v_{t})$입니다.\n",
        "즉, 여러분이 받는 상태 정보 $s_{t}$는 $x$축 방향에서의 현재 위치 $x_{t}$와 속도 $v_{t}$입니다.\n",
        "\n",
        "$x$축 방향의 좌표는 $(-1.2, 0.6)$ 사이이고, 속도 $v$는 (-0.07, 0.07) 사이입니다."
      ]
    },
    {
      "cell_type": "code",
      "execution_count": 12,
      "metadata": {
        "id": "6XWStLA-ldOd",
        "colab": {
          "base_uri": "https://localhost:8080/"
        },
        "outputId": "82a765c8-b5d9-4cee-ce9f-00b4c73e1b11"
      },
      "outputs": [
        {
          "output_type": "stream",
          "name": "stdout",
          "text": [
            "Observation space: Box([-1.2  -0.07], [0.6  0.07], (2,), float32)\n",
            "The starting state is: [-0.590913  0.      ]\n"
          ]
        }
      ],
      "source": [
        "state, _ = env.reset()\n",
        "print('Observation space:', env.observation_space)   #환경의 x 좌표는 -1.2부터 0.6까지 속도는 -0.07, 0.07까지\n",
        "print('The starting state is:', state) #좌표, 속도"
      ]
    },
    {
      "cell_type": "markdown",
      "metadata": {
        "id": "mESkrSv53Nh0"
      },
      "source": [
        "여러분이 어떤 행동을 선택하면, 다음과 같이 환경의 상태가 변화합니다.\n",
        "\n",
        "$v_{t+1} = v_{t} + (\\mathrm{action} - 1) * F - \\cos(3 * x_{t}) * mg$\n",
        "\n",
        "$x_{t+1} = x_{t} + v_{t+1}$\n",
        "\n",
        "여기서 $F$는 페달을 밟을 때 가속하는 힘 $F = 0.001$이고, 중력 $mg = 0.0025$입니다."
      ]
    },
    {
      "cell_type": "code",
      "execution_count": 13,
      "metadata": {
        "id": "DKYtgu-blgGL",
        "colab": {
          "base_uri": "https://localhost:8080/"
        },
        "outputId": "5daffb7d-7b7c-48f9-9925-802399bb0234"
      },
      "outputs": [
        {
          "output_type": "stream",
          "name": "stdout",
          "text": [
            "State: [-5.9141153e-01 -4.9856794e-04]\n",
            "Reward: -1.0\n",
            "Done: False\n"
          ]
        }
      ],
      "source": [
        "action = 0 #Agent가 왼쪽으로 가는 행동을 선택\n",
        "\n",
        "#행동을 선택하고 난 후 다음 상태 보상 환경이 끝났는지에 대한 정보 제공\n",
        "state, reward, done, _, _ = env.step(action)\n",
        "print(f\"State: {state}\") #[다음 x축 좌표, 다음 속도]\n",
        "print(f\"Reward: {reward}\") #[다음 보상]\n",
        "print(f\"Done: {done}\") #[환경 종료 여부]"
      ]
    },
    {
      "cell_type": "markdown",
      "metadata": {
        "id": "GCUIOuWYq0Nq"
      },
      "source": [
        "### 인공지능 정책 정의하기\n",
        "\n",
        "강화 학습에서 정책은 인공지능의 두뇌입니다. 인공지능이 변화하는 환경 속에서 어떻게 행동할지를 결정하는 지침으로 생각할 수 있습니다. 가장 단순한 형태의 정책으로는 여러분이 취할 수 있는 행동 중에서 아무거나 (샘플링하여) 고르는 것이 있겠습니다."
      ]
    },
    {
      "cell_type": "code",
      "execution_count": 14,
      "metadata": {
        "id": "1o18p51sq0lv"
      },
      "outputs": [],
      "source": [
        "#기본 랜덤 정책\n",
        "class RandomPolicy():\n",
        "    # 클래스 선언\n",
        "    def __init__(self, action_space): #행동 공간에 대한 정보 저장\n",
        "        self.action_space = action_space\n",
        "    #클래스 호출 함수\n",
        "    def __call__(self, state): #상태 state를 받았을 때, 어떤 행동을 취할 지 결정하는 함수, 여기서는 랜덤하게 선택\n",
        "        return self.action_space.sample()"
      ]
    },
    {
      "cell_type": "code",
      "source": [
        "#나의 정책\n",
        "#x 축 방향의 좌표는 (−1.2,0.6) 사이이고, 속도 v는 (-0.07, 0.07) 사이입니다\n",
        "class MyPolicy():\n",
        "\n",
        "  def __init__(self, action_space):\n",
        "    self.action_space = action_space\n",
        "    self.start_position = -0.6\n",
        "\n",
        "  #페달을 밟고 있는데 안 움직이면 방향을 전환하는 방법\n",
        "  def __call__(self, state):\n",
        "    #state = [x축 방향 위치, x축 방향 속도]\n",
        "    x, v = state\n",
        " #   print(f'v={v}')\n",
        "    if v == 0:\n",
        "      if x< self.start_position:\n",
        "        my_action = 0\n",
        "        next_action = 2\n",
        "      elif x>self.start_position:\n",
        "        my_action = 2\n",
        "        next_action = 0\n",
        "      else:\n",
        "        my_action = 1\n",
        "        next_action = 2\n",
        "    if v<0:\n",
        "      next_action = 0\n",
        "    if v>0:\n",
        "      next_action = 2\n",
        "\n",
        "\n",
        "    return next_action"
      ],
      "metadata": {
        "id": "N0b50fFbnx4q"
      },
      "execution_count": 15,
      "outputs": []
    },
    {
      "cell_type": "markdown",
      "metadata": {
        "id": "WBvVYPQrq3h_"
      },
      "source": [
        "### 환경과 상호작용하기\n",
        "\n",
        "정책이 있다면, 여러분은 주어진 상황에서 어떤 행동을 취해야 할지 결정할 수 있습니다. 그럼 이제 본격적으로 환경 속에 들어가서 직접 부딪혀볼까요?\n",
        "\n",
        "여러분이 어떤 행동을 취하면, 환경은 여러분에게 보상을 줍니다. 이 보상은 여러분이 좋은 행동을 했는지, 나쁜 행동을 했는지 알려주는 값입니다. 그리고 여러분이 취한 행동에 따라 환경은 변화하고, 이 변화한 환경을 여러분은 다시 관찰할 수 있습니다. 그리고 여러분은 또다시 (여러분이 관찰한 결과를 토대로) 어떤 행동을 취할지 결정합니다. 강화 학습은 이 과정을 반복하며 진행됩니다."
      ]
    },
    {
      "cell_type": "code",
      "execution_count": 16,
      "metadata": {
        "id": "mwtH_tezxFYm",
        "colab": {
          "base_uri": "https://localhost:8080/",
          "height": 486
        },
        "outputId": "2f042002-db12-4d0c-8f7b-81057ce31bcd"
      },
      "outputs": [
        {
          "output_type": "stream",
          "name": "stdout",
          "text": [
            "Moviepy - Building video /content/video/random-agent-episode-0.mp4.\n",
            "Moviepy - Writing video /content/video/random-agent-episode-0.mp4\n",
            "\n"
          ]
        },
        {
          "output_type": "stream",
          "name": "stderr",
          "text": [
            "                                                  "
          ]
        },
        {
          "output_type": "stream",
          "name": "stdout",
          "text": [
            "Moviepy - Done !\n",
            "Moviepy - video ready /content/video/random-agent-episode-0.mp4\n"
          ]
        },
        {
          "output_type": "stream",
          "name": "stderr",
          "text": [
            "\r"
          ]
        },
        {
          "output_type": "stream",
          "name": "stdout",
          "text": [
            "Moviepy - Building video /content/video/random-agent-episode-0.mp4.\n",
            "Moviepy - Writing video /content/video/random-agent-episode-0.mp4\n",
            "\n"
          ]
        },
        {
          "output_type": "stream",
          "name": "stderr",
          "text": []
        },
        {
          "output_type": "stream",
          "name": "stdout",
          "text": [
            "Moviepy - Done !\n",
            "Moviepy - video ready /content/video/random-agent-episode-0.mp4\n",
            "157번째 성공!\n"
          ]
        },
        {
          "output_type": "execute_result",
          "data": {
            "text/plain": [
              "<IPython.core.display.HTML object>"
            ],
            "text/html": [
              "\n",
              "    <video width=400 controls>\n",
              "          <source src=\"data:video/mp4;base64,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\" type=\"video/mp4\">\n",
              "    </video>\n",
              "    "
            ]
          },
          "metadata": {},
          "execution_count": 16
        }
      ],
      "source": [
        "env = gym.make(\"MountainCar-v0\", render_mode=\"rgb_array\") # 환경을 생성\n",
        "env = RecordVideo(env, 'video', name_prefix='random-agent') # 비디오 저장\n",
        "\n",
        "#agent = RandomPolicy(env.action_space) #정책 불러오기\n",
        "agent = MyPolicy(env.action_space) #정책 불러오기\n",
        "state, _ = env.reset() #환경 초기화\n",
        "env.start_video_recorder() #비디오 저장\n",
        "\n",
        "#100번 동안 상호작용\n",
        "#for t in range(1000):\n",
        "time=0\n",
        "done = False\n",
        "while done == False:\n",
        "    time += 1\n",
        "    action = agent(state) #상태 정보를 받아서 행동 결정\n",
        "    state, reward, done, _, _ = env.step(action) #행동에 의해 상태 변화\\\n",
        "    env.render() #비디오 촬영\n",
        "print(f'{time}번째 성공!')\n",
        "\n",
        "env.close()\n",
        "view_video('random-agent')"
      ]
    },
    {
      "cell_type": "markdown",
      "metadata": {
        "id": "3nSS-EoM3Nh1"
      },
      "source": [
        "### BONUS: 강화 학습 에이전트 학습하기"
      ]
    },
    {
      "cell_type": "code",
      "execution_count": 17,
      "metadata": {
        "id": "MxmeXv3xlrgD",
        "colab": {
          "base_uri": "https://localhost:8080/",
          "height": 569
        },
        "outputId": "6d58993b-5dbd-4b4c-e347-a34152373d23"
      },
      "outputs": [
        {
          "output_type": "stream",
          "name": "stderr",
          "text": [
            "2024-03-09 08:07:36,898\tINFO worker.py:1724 -- Started a local Ray instance.\n"
          ]
        },
        {
          "output_type": "error",
          "ename": "RuntimeError",
          "evalue": "Found 0 GPUs on your machine (GPU devices found: [])! If your\n    machine does not have any GPUs, you should set the config keys `num_gpus` and\n    `num_gpus_per_worker` to 0 (they may be set to 1 by default for your\n    particular RL algorithm).\nTo change the config for the `rllib train|rollout` command, use\n  `--config={'[key]': '[value]'}` on the command line.\nTo change the config for `tune.Tuner().fit()` in a script: Modify the python dict\n  passed to `tune.Tuner(param_space=[...]).fit()`.\nTo change the config for an RLlib Algorithm instance: Modify the python dict\n  passed to the Algorithm's constructor, e.g. `PPO(config=[...])`.\n",
          "traceback": [
            "\u001b[0;31m---------------------------------------------------------------------------\u001b[0m",
            "\u001b[0;31mRuntimeError\u001b[0m                              Traceback (most recent call last)",
            "\u001b[0;32m<ipython-input-17-2f5758810a85>\u001b[0m in \u001b[0;36m<cell line: 5>\u001b[0;34m()\u001b[0m\n\u001b[1;32m      7\u001b[0m     \u001b[0;34m.\u001b[0m\u001b[0mresources\u001b[0m\u001b[0;34m(\u001b[0m\u001b[0mnum_gpus\u001b[0m\u001b[0;34m=\u001b[0m\u001b[0;36m1\u001b[0m\u001b[0;34m)\u001b[0m\u001b[0;34m\u001b[0m\u001b[0;34m\u001b[0m\u001b[0m\n\u001b[1;32m      8\u001b[0m     \u001b[0;34m.\u001b[0m\u001b[0menvironment\u001b[0m\u001b[0;34m(\u001b[0m\u001b[0menv\u001b[0m\u001b[0;34m=\u001b[0m\u001b[0;34m\"MountainCar-v0\"\u001b[0m\u001b[0;34m)\u001b[0m\u001b[0;34m\u001b[0m\u001b[0;34m\u001b[0m\u001b[0m\n\u001b[0;32m----> 9\u001b[0;31m     \u001b[0;34m.\u001b[0m\u001b[0mbuild\u001b[0m\u001b[0;34m(\u001b[0m\u001b[0;34m)\u001b[0m\u001b[0;34m\u001b[0m\u001b[0;34m\u001b[0m\u001b[0m\n\u001b[0m\u001b[1;32m     10\u001b[0m )\n\u001b[1;32m     11\u001b[0m \u001b[0;34m\u001b[0m\u001b[0m\n",
            "\u001b[0;32m/usr/local/lib/python3.10/dist-packages/ray/rllib/algorithms/algorithm_config.py\u001b[0m in \u001b[0;36mbuild\u001b[0;34m(self, env, logger_creator, use_copy)\u001b[0m\n\u001b[1;32m   1135\u001b[0m             \u001b[0malgo_class\u001b[0m \u001b[0;34m=\u001b[0m \u001b[0mget_trainable_cls\u001b[0m\u001b[0;34m(\u001b[0m\u001b[0mself\u001b[0m\u001b[0;34m.\u001b[0m\u001b[0malgo_class\u001b[0m\u001b[0;34m)\u001b[0m\u001b[0;34m\u001b[0m\u001b[0;34m\u001b[0m\u001b[0m\n\u001b[1;32m   1136\u001b[0m \u001b[0;34m\u001b[0m\u001b[0m\n\u001b[0;32m-> 1137\u001b[0;31m         return algo_class(\n\u001b[0m\u001b[1;32m   1138\u001b[0m             \u001b[0mconfig\u001b[0m\u001b[0;34m=\u001b[0m\u001b[0mself\u001b[0m \u001b[0;32mif\u001b[0m \u001b[0;32mnot\u001b[0m \u001b[0muse_copy\u001b[0m \u001b[0;32melse\u001b[0m \u001b[0mcopy\u001b[0m\u001b[0;34m.\u001b[0m\u001b[0mdeepcopy\u001b[0m\u001b[0;34m(\u001b[0m\u001b[0mself\u001b[0m\u001b[0;34m)\u001b[0m\u001b[0;34m,\u001b[0m\u001b[0;34m\u001b[0m\u001b[0;34m\u001b[0m\u001b[0m\n\u001b[1;32m   1139\u001b[0m             \u001b[0mlogger_creator\u001b[0m\u001b[0;34m=\u001b[0m\u001b[0mself\u001b[0m\u001b[0;34m.\u001b[0m\u001b[0mlogger_creator\u001b[0m\u001b[0;34m,\u001b[0m\u001b[0;34m\u001b[0m\u001b[0;34m\u001b[0m\u001b[0m\n",
            "\u001b[0;32m/usr/local/lib/python3.10/dist-packages/ray/rllib/algorithms/algorithm.py\u001b[0m in \u001b[0;36m__init__\u001b[0;34m(self, config, env, logger_creator, **kwargs)\u001b[0m\n\u001b[1;32m    514\u001b[0m         }\n\u001b[1;32m    515\u001b[0m \u001b[0;34m\u001b[0m\u001b[0m\n\u001b[0;32m--> 516\u001b[0;31m         super().__init__(\n\u001b[0m\u001b[1;32m    517\u001b[0m             \u001b[0mconfig\u001b[0m\u001b[0;34m=\u001b[0m\u001b[0mconfig\u001b[0m\u001b[0;34m,\u001b[0m\u001b[0;34m\u001b[0m\u001b[0;34m\u001b[0m\u001b[0m\n\u001b[1;32m    518\u001b[0m             \u001b[0mlogger_creator\u001b[0m\u001b[0;34m=\u001b[0m\u001b[0mlogger_creator\u001b[0m\u001b[0;34m,\u001b[0m\u001b[0;34m\u001b[0m\u001b[0;34m\u001b[0m\u001b[0m\n",
            "\u001b[0;32m/usr/local/lib/python3.10/dist-packages/ray/tune/trainable/trainable.py\u001b[0m in \u001b[0;36m__init__\u001b[0;34m(self, config, logger_creator, storage)\u001b[0m\n\u001b[1;32m    159\u001b[0m         \u001b[0mself\u001b[0m\u001b[0;34m.\u001b[0m\u001b[0m_open_logfiles\u001b[0m\u001b[0;34m(\u001b[0m\u001b[0mstdout_file\u001b[0m\u001b[0;34m,\u001b[0m \u001b[0mstderr_file\u001b[0m\u001b[0;34m)\u001b[0m\u001b[0;34m\u001b[0m\u001b[0;34m\u001b[0m\u001b[0m\n\u001b[1;32m    160\u001b[0m \u001b[0;34m\u001b[0m\u001b[0m\n\u001b[0;32m--> 161\u001b[0;31m         \u001b[0mself\u001b[0m\u001b[0;34m.\u001b[0m\u001b[0msetup\u001b[0m\u001b[0;34m(\u001b[0m\u001b[0mcopy\u001b[0m\u001b[0;34m.\u001b[0m\u001b[0mdeepcopy\u001b[0m\u001b[0;34m(\u001b[0m\u001b[0mself\u001b[0m\u001b[0;34m.\u001b[0m\u001b[0mconfig\u001b[0m\u001b[0;34m)\u001b[0m\u001b[0;34m)\u001b[0m\u001b[0;34m\u001b[0m\u001b[0;34m\u001b[0m\u001b[0m\n\u001b[0m\u001b[1;32m    162\u001b[0m         \u001b[0msetup_time\u001b[0m \u001b[0;34m=\u001b[0m \u001b[0mtime\u001b[0m\u001b[0;34m.\u001b[0m\u001b[0mtime\u001b[0m\u001b[0;34m(\u001b[0m\u001b[0;34m)\u001b[0m \u001b[0;34m-\u001b[0m \u001b[0mself\u001b[0m\u001b[0;34m.\u001b[0m\u001b[0m_start_time\u001b[0m\u001b[0;34m\u001b[0m\u001b[0;34m\u001b[0m\u001b[0m\n\u001b[1;32m    163\u001b[0m         \u001b[0;32mif\u001b[0m \u001b[0msetup_time\u001b[0m \u001b[0;34m>\u001b[0m \u001b[0mSETUP_TIME_THRESHOLD\u001b[0m\u001b[0;34m:\u001b[0m\u001b[0;34m\u001b[0m\u001b[0;34m\u001b[0m\u001b[0m\n",
            "\u001b[0;32m/usr/local/lib/python3.10/dist-packages/ray/rllib/algorithms/algorithm.py\u001b[0m in \u001b[0;36msetup\u001b[0;34m(self, config)\u001b[0m\n\u001b[1;32m    636\u001b[0m         \u001b[0;32mif\u001b[0m \u001b[0m_init\u001b[0m \u001b[0;32mis\u001b[0m \u001b[0;32mFalse\u001b[0m\u001b[0;34m:\u001b[0m\u001b[0;34m\u001b[0m\u001b[0;34m\u001b[0m\u001b[0m\n\u001b[1;32m    637\u001b[0m             \u001b[0;31m# Create a set of env runner actors via a WorkerSet.\u001b[0m\u001b[0;34m\u001b[0m\u001b[0;34m\u001b[0m\u001b[0m\n\u001b[0;32m--> 638\u001b[0;31m             self.workers = WorkerSet(\n\u001b[0m\u001b[1;32m    639\u001b[0m                 \u001b[0menv_creator\u001b[0m\u001b[0;34m=\u001b[0m\u001b[0mself\u001b[0m\u001b[0;34m.\u001b[0m\u001b[0menv_creator\u001b[0m\u001b[0;34m,\u001b[0m\u001b[0;34m\u001b[0m\u001b[0;34m\u001b[0m\u001b[0m\n\u001b[1;32m    640\u001b[0m                 \u001b[0mvalidate_env\u001b[0m\u001b[0;34m=\u001b[0m\u001b[0mself\u001b[0m\u001b[0;34m.\u001b[0m\u001b[0mvalidate_env\u001b[0m\u001b[0;34m,\u001b[0m\u001b[0;34m\u001b[0m\u001b[0;34m\u001b[0m\u001b[0m\n",
            "\u001b[0;32m/usr/local/lib/python3.10/dist-packages/ray/rllib/evaluation/worker_set.py\u001b[0m in \u001b[0;36m__init__\u001b[0;34m(self, env_creator, validate_env, default_policy_class, config, num_workers, local_worker, logdir, _setup)\u001b[0m\n\u001b[1;32m    157\u001b[0m         \u001b[0;32mif\u001b[0m \u001b[0m_setup\u001b[0m\u001b[0;34m:\u001b[0m\u001b[0;34m\u001b[0m\u001b[0;34m\u001b[0m\u001b[0m\n\u001b[1;32m    158\u001b[0m             \u001b[0;32mtry\u001b[0m\u001b[0;34m:\u001b[0m\u001b[0;34m\u001b[0m\u001b[0;34m\u001b[0m\u001b[0m\n\u001b[0;32m--> 159\u001b[0;31m                 self._setup(\n\u001b[0m\u001b[1;32m    160\u001b[0m                     \u001b[0mvalidate_env\u001b[0m\u001b[0;34m=\u001b[0m\u001b[0mvalidate_env\u001b[0m\u001b[0;34m,\u001b[0m\u001b[0;34m\u001b[0m\u001b[0;34m\u001b[0m\u001b[0m\n\u001b[1;32m    161\u001b[0m                     \u001b[0mconfig\u001b[0m\u001b[0;34m=\u001b[0m\u001b[0mconfig\u001b[0m\u001b[0;34m,\u001b[0m\u001b[0;34m\u001b[0m\u001b[0;34m\u001b[0m\u001b[0m\n",
            "\u001b[0;32m/usr/local/lib/python3.10/dist-packages/ray/rllib/evaluation/worker_set.py\u001b[0m in \u001b[0;36m_setup\u001b[0;34m(self, validate_env, config, num_workers, local_worker)\u001b[0m\n\u001b[1;32m    247\u001b[0m         \u001b[0;31m# Create a local worker, if needed.\u001b[0m\u001b[0;34m\u001b[0m\u001b[0;34m\u001b[0m\u001b[0m\n\u001b[1;32m    248\u001b[0m         \u001b[0;32mif\u001b[0m \u001b[0mlocal_worker\u001b[0m\u001b[0;34m:\u001b[0m\u001b[0;34m\u001b[0m\u001b[0;34m\u001b[0m\u001b[0m\n\u001b[0;32m--> 249\u001b[0;31m             self._local_worker = self._make_worker(\n\u001b[0m\u001b[1;32m    250\u001b[0m                 \u001b[0mcls\u001b[0m\u001b[0;34m=\u001b[0m\u001b[0mself\u001b[0m\u001b[0;34m.\u001b[0m\u001b[0menv_runner_cls\u001b[0m\u001b[0;34m,\u001b[0m\u001b[0;34m\u001b[0m\u001b[0;34m\u001b[0m\u001b[0m\n\u001b[1;32m    251\u001b[0m                 \u001b[0menv_creator\u001b[0m\u001b[0;34m=\u001b[0m\u001b[0mself\u001b[0m\u001b[0;34m.\u001b[0m\u001b[0m_env_creator\u001b[0m\u001b[0;34m,\u001b[0m\u001b[0;34m\u001b[0m\u001b[0;34m\u001b[0m\u001b[0m\n",
            "\u001b[0;32m/usr/local/lib/python3.10/dist-packages/ray/rllib/evaluation/worker_set.py\u001b[0m in \u001b[0;36m_make_worker\u001b[0;34m(self, cls, env_creator, validate_env, worker_index, num_workers, recreated_worker, config, spaces)\u001b[0m\n\u001b[1;32m    948\u001b[0m         ] = None,\n\u001b[1;32m    949\u001b[0m     ) -> Union[EnvRunner, ActorHandle]:\n\u001b[0;32m--> 950\u001b[0;31m         worker = cls(\n\u001b[0m\u001b[1;32m    951\u001b[0m             \u001b[0menv_creator\u001b[0m\u001b[0;34m=\u001b[0m\u001b[0menv_creator\u001b[0m\u001b[0;34m,\u001b[0m\u001b[0;34m\u001b[0m\u001b[0;34m\u001b[0m\u001b[0m\n\u001b[1;32m    952\u001b[0m             \u001b[0mvalidate_env\u001b[0m\u001b[0;34m=\u001b[0m\u001b[0mvalidate_env\u001b[0m\u001b[0;34m,\u001b[0m\u001b[0;34m\u001b[0m\u001b[0;34m\u001b[0m\u001b[0m\n",
            "\u001b[0;32m/usr/local/lib/python3.10/dist-packages/ray/rllib/evaluation/rollout_worker.py\u001b[0m in \u001b[0;36m__init__\u001b[0;34m(self, env_creator, validate_env, config, worker_index, num_workers, recreated_worker, log_dir, spaces, default_policy_class, dataset_shards, tf_session_creator)\u001b[0m\n\u001b[1;32m    510\u001b[0m \u001b[0;34m\u001b[0m\u001b[0m\n\u001b[1;32m    511\u001b[0m                 \u001b[0;32mif\u001b[0m \u001b[0mlen\u001b[0m\u001b[0;34m(\u001b[0m\u001b[0mdevices\u001b[0m\u001b[0;34m)\u001b[0m \u001b[0;34m<\u001b[0m \u001b[0mnum_gpus\u001b[0m\u001b[0;34m:\u001b[0m\u001b[0;34m\u001b[0m\u001b[0;34m\u001b[0m\u001b[0m\n\u001b[0;32m--> 512\u001b[0;31m                     raise RuntimeError(\n\u001b[0m\u001b[1;32m    513\u001b[0m                         \u001b[0mERR_MSG_NO_GPUS\u001b[0m\u001b[0;34m.\u001b[0m\u001b[0mformat\u001b[0m\u001b[0;34m(\u001b[0m\u001b[0mlen\u001b[0m\u001b[0;34m(\u001b[0m\u001b[0mdevices\u001b[0m\u001b[0;34m)\u001b[0m\u001b[0;34m,\u001b[0m \u001b[0mdevices\u001b[0m\u001b[0;34m)\u001b[0m\u001b[0;34m\u001b[0m\u001b[0;34m\u001b[0m\u001b[0m\n\u001b[1;32m    514\u001b[0m                         \u001b[0;34m+\u001b[0m \u001b[0mHOWTO_CHANGE_CONFIG\u001b[0m\u001b[0;34m\u001b[0m\u001b[0;34m\u001b[0m\u001b[0m\n",
            "\u001b[0;31mRuntimeError\u001b[0m: Found 0 GPUs on your machine (GPU devices found: [])! If your\n    machine does not have any GPUs, you should set the config keys `num_gpus` and\n    `num_gpus_per_worker` to 0 (they may be set to 1 by default for your\n    particular RL algorithm).\nTo change the config for the `rllib train|rollout` command, use\n  `--config={'[key]': '[value]'}` on the command line.\nTo change the config for `tune.Tuner().fit()` in a script: Modify the python dict\n  passed to `tune.Tuner(param_space=[...]).fit()`.\nTo change the config for an RLlib Algorithm instance: Modify the python dict\n  passed to the Algorithm's constructor, e.g. `PPO(config=[...])`.\n"
          ]
        }
      ],
      "source": [
        "%%capture\n",
        "from ray.rllib.algorithms.ppo import PPOConfig\n",
        "from ray.tune.logger import pretty_print\n",
        "\n",
        "algo = (\n",
        "    PPOConfig()\n",
        "    .rollouts(num_rollout_workers=1)\n",
        "    .resources(num_gpus=1)\n",
        "    .environment(env=\"MountainCar-v0\")\n",
        "    .build()\n",
        ")\n",
        "\n",
        "for i in range(2):\n",
        "    algo.train()"
      ]
    },
    {
      "cell_type": "code",
      "execution_count": 18,
      "metadata": {
        "id": "Wlsvax9I3Nh2",
        "colab": {
          "base_uri": "https://localhost:8080/",
          "height": 366
        },
        "outputId": "1584bc27-9425-47d3-ca4e-fe140184ce6b"
      },
      "outputs": [
        {
          "output_type": "stream",
          "name": "stderr",
          "text": [
            "/usr/local/lib/python3.10/dist-packages/ipykernel/ipkernel.py:283: DeprecationWarning: `should_run_async` will not call `transform_cell` automatically in the future. Please pass the result to `transformed_cell` argument and any exception that happen during thetransform in `preprocessing_exc_tuple` in IPython 7.17 and above.\n",
            "  and should_run_async(code)\n"
          ]
        },
        {
          "output_type": "stream",
          "name": "stdout",
          "text": [
            "Moviepy - Building video /content/video/ppo-agent-episode-0.mp4.\n",
            "Moviepy - Writing video /content/video/ppo-agent-episode-0.mp4\n",
            "\n"
          ]
        },
        {
          "output_type": "stream",
          "name": "stderr",
          "text": [
            "                                                  "
          ]
        },
        {
          "output_type": "stream",
          "name": "stdout",
          "text": [
            "Moviepy - Done !\n",
            "Moviepy - video ready /content/video/ppo-agent-episode-0.mp4\n"
          ]
        },
        {
          "output_type": "stream",
          "name": "stderr",
          "text": [
            "\r"
          ]
        },
        {
          "output_type": "error",
          "ename": "NameError",
          "evalue": "name 'algo' is not defined",
          "traceback": [
            "\u001b[0;31m---------------------------------------------------------------------------\u001b[0m",
            "\u001b[0;31mNameError\u001b[0m                                 Traceback (most recent call last)",
            "\u001b[0;32m<ipython-input-18-6b6652b4aa22>\u001b[0m in \u001b[0;36m<cell line: 7>\u001b[0;34m()\u001b[0m\n\u001b[1;32m      6\u001b[0m \u001b[0;34m\u001b[0m\u001b[0m\n\u001b[1;32m      7\u001b[0m \u001b[0;32mfor\u001b[0m \u001b[0mt\u001b[0m \u001b[0;32min\u001b[0m \u001b[0mrange\u001b[0m\u001b[0;34m(\u001b[0m\u001b[0;36m100\u001b[0m\u001b[0;34m)\u001b[0m\u001b[0;34m:\u001b[0m\u001b[0;34m\u001b[0m\u001b[0;34m\u001b[0m\u001b[0m\n\u001b[0;32m----> 8\u001b[0;31m     \u001b[0maction\u001b[0m \u001b[0;34m=\u001b[0m \u001b[0malgo\u001b[0m\u001b[0;34m.\u001b[0m\u001b[0mcompute_single_action\u001b[0m\u001b[0;34m(\u001b[0m\u001b[0mstate\u001b[0m\u001b[0;34m)\u001b[0m\u001b[0;34m\u001b[0m\u001b[0;34m\u001b[0m\u001b[0m\n\u001b[0m\u001b[1;32m      9\u001b[0m     \u001b[0mstate\u001b[0m\u001b[0;34m,\u001b[0m \u001b[0mreward\u001b[0m\u001b[0;34m,\u001b[0m \u001b[0mdone\u001b[0m\u001b[0;34m,\u001b[0m \u001b[0m_\u001b[0m\u001b[0;34m,\u001b[0m \u001b[0m_\u001b[0m \u001b[0;34m=\u001b[0m \u001b[0menv\u001b[0m\u001b[0;34m.\u001b[0m\u001b[0mstep\u001b[0m\u001b[0;34m(\u001b[0m\u001b[0maction\u001b[0m\u001b[0;34m)\u001b[0m\u001b[0;34m\u001b[0m\u001b[0;34m\u001b[0m\u001b[0m\n\u001b[1;32m     10\u001b[0m     \u001b[0menv\u001b[0m\u001b[0;34m.\u001b[0m\u001b[0mrender\u001b[0m\u001b[0;34m(\u001b[0m\u001b[0;34m)\u001b[0m\u001b[0;34m\u001b[0m\u001b[0;34m\u001b[0m\u001b[0m\n",
            "\u001b[0;31mNameError\u001b[0m: name 'algo' is not defined"
          ]
        }
      ],
      "source": [
        "env = gym.make(\"MountainCar-v0\", render_mode=\"rgb_array\")\n",
        "env = RecordVideo(env, 'video', name_prefix='ppo-agent')\n",
        "\n",
        "state, _ = env.reset()\n",
        "env.start_video_recorder()\n",
        "\n",
        "for t in range(100):\n",
        "    action = algo.compute_single_action(state)\n",
        "    state, reward, done, _, _ = env.step(action)\n",
        "    env.render()\n",
        "\n",
        "env.close()\n",
        "view_video('ppo-agent')"
      ]
    },
    {
      "cell_type": "markdown",
      "metadata": {
        "id": "k3AxNEO33Nh2"
      },
      "source": [
        "# 강화 학습 환경 직접 만져보기"
      ]
    },
    {
      "cell_type": "markdown",
      "metadata": {
        "id": "_icf0Z8d3Nh2"
      },
      "source": [
        "### 블랙잭"
      ]
    },
    {
      "cell_type": "markdown",
      "source": [
        "https://gymnasium.farama.org/environments/toy_text/blackjack/#blackjack"
      ],
      "metadata": {
        "id": "4Jguam4B692X"
      }
    },
    {
      "cell_type": "code",
      "source": [
        "class MyPolicy():\n",
        "  def __init__(self, action_space):\n",
        "    self.action_space = action_space\n",
        "\n",
        "  def __call__(self, state):\n",
        "    sum, dealer, ace = state\n",
        "\n",
        "    if dealer<10 and sum>=10:\n",
        "\n"
      ],
      "metadata": {
        "id": "nmB3JsbwAYuP"
      },
      "execution_count": null,
      "outputs": []
    },
    {
      "cell_type": "code",
      "execution_count": null,
      "metadata": {
        "id": "K_ASFOJm3Nh2"
      },
      "outputs": [],
      "source": [
        "# Create the Blackjack environment\n",
        "env = gym.make('Blackjack-v1')\n",
        "print('Created env:', env)\n",
        "print('Available actions:', env.action_space)\n",
        "# 0은 멈춤(Stick), 1은 한장 더(Hit)\n",
        "\n",
        "# 나의 정책 불러오기\n",
        "agent = MyPolicy(env.action_space)\n",
        "\n",
        "# Reset the environment\n",
        "state, _ = env.reset()\n",
        "\n",
        "print('Observation space:', env.observation_space)\n",
        "print(\"1: Player current sum\")\n",
        "print(\"2: Dealer showing card value (1,10)\")\n",
        "print(\"3: Usable Ace (0,1)\")\n",
        "\n",
        "print('The starting state is:', state)\n",
        "done = False\n",
        "while not done:\n",
        "    # Choose a random action\n",
        "    #action = env.action_space.sample()\n",
        "    action = agent(state)\n",
        "    print(f'Action: {action} [0:Stick/1:Hit]')\n",
        "    # Take a step in the environment\n",
        "    state, reward, done, info, _ = env.step(action)\n",
        "     # Print the current state, reward, and whether the episode is done\n",
        "    print('State:', state)\n",
        "    print('Reward:', reward)\n",
        "    print('Done:', done)\n",
        "\n",
        "# Close the environment\n",
        "env.close()\n"
      ]
    },
    {
      "cell_type": "markdown",
      "metadata": {
        "id": "8MJq9f7M3Nh3"
      },
      "source": [
        "### Tic-Tac-Toe"
      ]
    },
    {
      "cell_type": "code",
      "execution_count": null,
      "metadata": {
        "id": "03_EWc543Nh3"
      },
      "outputs": [],
      "source": [
        "import numpy as np\n",
        "import gymnasium as gym\n",
        "from gymnasium import spaces\n",
        "\n",
        "class TicTacToeEnv(gym.Env):\n",
        "    def __init__(self):\n",
        "        self.board = np.zeros((3, 3), dtype=int)\n",
        "        self.current_player = 1\n",
        "        self.action_space = spaces.Discrete(9)\n",
        "        self.observation_space = spaces.Box(low=0, high=1, shape=(3, 3), dtype=int)\n",
        "\n",
        "    def reset(self):\n",
        "        self.board = np.zeros((3, 3), dtype=int)\n",
        "        self.current_player = 1\n",
        "        return self.board\n",
        "\n",
        "    def step(self, action):\n",
        "        row = action // 3\n",
        "        col = action % 3\n",
        "\n",
        "        if self.board[row, col] != 0:\n",
        "            return self.board, -1, False, False, {}\n",
        "\n",
        "        self.board[row, col] = self.current_player\n",
        "\n",
        "        if self._check_winner(self.current_player):\n",
        "            return self.board, 1, True, False, {}\n",
        "\n",
        "        if np.count_nonzero(self.board) == 9:\n",
        "            return self.board, 0, True, False, {}\n",
        "\n",
        "        self.current_player = -self.current_player\n",
        "        return self.board, 0, False, False, {}\n",
        "\n",
        "    def render(self):\n",
        "        print(self.board)\n",
        "\n",
        "    def _check_winner(self, player):\n",
        "        for i in range(3):\n",
        "            if np.all(self.board[i, :] == player) or np.all(self.board[:, i] == player):\n",
        "                return True\n",
        "        if np.all(np.diag(self.board) == player) or np.all(np.diag(np.fliplr(self.board)) == player):\n",
        "            return True\n",
        "        return False"
      ]
    },
    {
      "cell_type": "code",
      "execution_count": null,
      "metadata": {
        "id": "rIf7lpfe3Nh3"
      },
      "outputs": [],
      "source": [
        "env = TicTacToeEnv()\n",
        "state = env.reset()\n",
        "env.render()\n",
        "\n",
        "done = False\n",
        "while not done:\n",
        "    action = ?????\n",
        "    state, reward, done, _ = env.step(action)\n",
        "    env.render()"
      ]
    }
  ],
  "metadata": {
    "accelerator": "GPU",
    "colab": {
      "gpuType": "T4",
      "provenance": [],
      "include_colab_link": true
    },
    "kernelspec": {
      "display_name": "Python 3",
      "name": "python3"
    },
    "language_info": {
      "codemirror_mode": {
        "name": "ipython",
        "version": 3
      },
      "file_extension": ".py",
      "mimetype": "text/x-python",
      "name": "python",
      "nbconvert_exporter": "python",
      "pygments_lexer": "ipython3",
      "version": "3.9.6"
    }
  },
  "nbformat": 4,
  "nbformat_minor": 0
}