{
  "cells": [
    {
      "cell_type": "markdown",
      "metadata": {
        "id": "view-in-github",
        "colab_type": "text"
      },
      "source": [
        "<a href=\"https://colab.research.google.com/github/enjoyPG/2024_Gifted/blob/main/01_240309_Tutorial/reinforcement_learning_tutorial_ipynb.ipynb\" target=\"_parent\"><img src=\"https://colab.research.google.com/assets/colab-badge.svg\" alt=\"Open In Colab\"/></a>"
      ]
    },
    {
      "cell_type": "markdown",
      "metadata": {
        "id": "w2BsaXtWqpAp"
      },
      "source": [
        "# 강화 학습 맛보기\n",
        "\n",
        "강화 학습 수업에 오신 여러분을 진심으로 환영합니다!\n",
        "\n",
        "여러분이 앞으로 1년 동안 배우게 될 강화 학습은 인공지능 분야 중에서도 가장 독특하고 유용한 기술입니다.\n",
        "아마 다른 어떤 수업에서도 경험하지 못할 재미있고 유익한 경험이 될 거에요."
      ]
    },
    {
      "cell_type": "markdown",
      "metadata": {
        "id": "yPaT76WHqrUV"
      },
      "source": [
        "## 강화 학습 내용 훑어보기\n",
        "\n",
        "강화 학습은 시행착오를 거치며 경험을 통해 적절한 행동 방식을 배워나가는 과정입니다. \"당근과 채찍\" 전략을 생각하면 쉽습니다. 여러분이 좋은 행동을 하면 당근을, 나쁜 행동을 하면 채찍질을 주는 것이 바로 강화 학습입니다. 이 당근과 채찍을 통틀어 강화 학습에서는 \"보상\"이라고 부릅니다. 강화 학습의 가장 중요한 요소 중 하나가 바로 이 보상입니다.\n",
        "\n",
        "![](https://s3-ap-northeast-2.amazonaws.com/opentutorials-user-file/module/4916/12365.jpeg)\n",
        "\n",
        "강화 학습의 또 다른 중요한 요소는 바로 끊임없이 변화하는 환경의 상태입니다. 어러분이 취하는 행동은 여러분 주변의 환경을 변화시킵니다. 여러분은 이 끊임없이 변화하는 환경 속에서 계속 보상을 최대한 취할 수 있도록 노력해야합니다. 이 과정이 바로 강화 학습의 과정과 많이 닮아있습니다.\n",
        "\n"
      ]
    },
    {
      "cell_type": "markdown",
      "metadata": {
        "id": "94yhPKFYquQw"
      },
      "source": [
        "## 강화 학습 예제 경험하기\n",
        "\n",
        "강화 학습이 어떤 문제를 풀 수 있는지 한번 살펴볼까요?\n",
        "\n",
        "사실 강화 학습은 우리 주변에서 흔히 접할 수 있는 대부분의 문제를 다 풀 수 있는 아주 유용한 기술입니다. 로봇을 조종하는 것부터 시작해서, 자율 주행, 주식 투자, 심지어는 최근에 각광받는 ChatGPT 역시 강화 학습 기술이 사용되었습니다. 우리가 일상 생활에서 상벌의 개념을 생각할 수 있는 거의 모든 문제를 강화 학습으로 풀 수 있습니다."
      ]
    },
    {
      "cell_type": "code",
      "execution_count": 1,
      "metadata": {
        "id": "t3e7d7NMlQPE"
      },
      "outputs": [],
      "source": [
        "%%capture\n",
        "!pip install -U ray[rllib]\n",
        "!pip install gputil\n",
        "!pip install ipython==7.10.0\n",
        "!pip install moviepy\n",
        "!pip install gymnasium[classic-control]"
      ]
    },
    {
      "cell_type": "code",
      "execution_count": 2,
      "metadata": {
        "id": "zk7kE26_lTjF"
      },
      "outputs": [],
      "source": [
        "from __future__ import absolute_import\n",
        "from __future__ import division\n",
        "from __future__ import print_function\n",
        "\n",
        "import ray\n",
        "import numpy as np\n",
        "import gymnasium as gym\n",
        "\n",
        "import warnings\n",
        "warnings.filterwarnings('ignore')\n",
        "\n",
        "from IPython.display import HTML\n",
        "from base64 import b64encode\n",
        "from gymnasium.wrappers import RecordVideo\n",
        "\n",
        "\n",
        "def view_video(filename):\n",
        "    video = f'video/{filename}-episode-0.mp4'\n",
        "    mp4 = open(video,'rb').read()\n",
        "    data_url = \"data:video/mp4;base64,\" + b64encode(mp4).decode()\n",
        "\n",
        "    return HTML(\"\"\"\n",
        "    <video width=400 controls>\n",
        "          <source src=\"%s\" type=\"video/mp4\">\n",
        "    </video>\n",
        "    \"\"\" % data_url)"
      ]
    },
    {
      "cell_type": "markdown",
      "metadata": {
        "id": "5_OKJ8jCqxuQ"
      },
      "source": [
        "### 환경 정의하기\n",
        "\n",
        "오늘 수업 시간에는 강화 학습에서 가장 단순하고 유명한 예제 중 하나인 \"Mountain Car\" 문제를 직접 풀어볼 것입니다. 이 문제에서 여러분의 목표는 산 정상의 깃발에 도달하는 것입니다.\n",
        "여러분은 오른쪽 또는 왼쪽으로 가속하는 페달을 밟거나, 페달을 밟지 않는 선택을 할 수 있습니다.\n",
        "산 정상까지 올라가려면 페달을 적절히 밟아야 합니다. 하지만 산의 경사가 너무 가파르기 때문에, 아무리 밟아도 중력 때문에 올라가지 못할 수도 있습니다.\n",
        "\n",
        "![](https://www.gymlibrary.dev/_images/mountain_car.gif)\n",
        "\n",
        "먼저, 이 환경에서 여러분이 취할 수 있는 행동은 다음과 같이 표현할 수 있습니다:\n",
        "\n",
        "0: 왼쪽으로 가속하는 페달 밟기\n",
        "\n",
        "1: 페달 밟지 않기\n",
        "\n",
        "2: 오른쪽으로 가속하는 페달 밟기"
      ]
    },
    {
      "cell_type": "code",
      "execution_count": 3,
      "metadata": {
        "id": "X25O_F-BlbXG",
        "colab": {
          "base_uri": "https://localhost:8080/"
        },
        "outputId": "328002f8-a180-4e70-ac22-c33d5d2ab3dd"
      },
      "outputs": [
        {
          "output_type": "stream",
          "name": "stdout",
          "text": [
            "Created env: <TimeLimit<OrderEnforcing<PassiveEnvChecker<MountainCarEnv<MountainCar-v0>>>>>\n",
            "Available actions: Discrete(3)\n"
          ]
        }
      ],
      "source": [
        "env = gym.make('MountainCar-v0')\n",
        "print('Created env:', env)\n",
        "print('Available actions:', env.action_space)"
      ]
    },
    {
      "cell_type": "markdown",
      "metadata": {
        "id": "akk0otr33Nhz"
      },
      "source": [
        "다음으로, 이 환경에서 받을 수 있는 상태에 대한 정보는 $s_{t} = (x_{t}, v_{t})$입니다.\n",
        "즉, 여러분이 받는 상태 정보 $s_{t}$는 $x$축 방향에서의 현재 위치 $x_{t}$와 속도 $v_{t}$입니다.\n",
        "\n",
        "$x$축 방향의 좌표는 $(-1.2, 0.6)$ 사이이고, 속도 $v$는 (-0.07, 0.07) 사이입니다."
      ]
    },
    {
      "cell_type": "code",
      "execution_count": 4,
      "metadata": {
        "id": "6XWStLA-ldOd",
        "colab": {
          "base_uri": "https://localhost:8080/"
        },
        "outputId": "9b78a075-8e8f-457c-cefa-f8e88f3a9ded"
      },
      "outputs": [
        {
          "output_type": "stream",
          "name": "stdout",
          "text": [
            "Observation space: Box([-1.2  -0.07], [0.6  0.07], (2,), float32)\n",
            "The starting state is: [-0.44356635  0.        ]\n"
          ]
        }
      ],
      "source": [
        "state, _ = env.reset()\n",
        "print('Observation space:', env.observation_space)\n",
        "print('The starting state is:', state)"
      ]
    },
    {
      "cell_type": "markdown",
      "metadata": {
        "id": "mESkrSv53Nh0"
      },
      "source": [
        "여러분이 어떤 행동을 선택하면, 다음과 같이 환경의 상태가 변화합니다.\n",
        "\n",
        "$v_{t+1} = v_{t} + (\\mathrm{action} - 1) * F - \\cos(3 * x_{t}) * mg$\n",
        "\n",
        "$x_{t+1} = x_{t} + v_{t+1}$\n",
        "\n",
        "여기서 $F$는 페달을 밟을 때 가속하는 힘 $F = 0.001$이고, 중력 $mg = 0.0025$입니다."
      ]
    },
    {
      "cell_type": "code",
      "execution_count": 5,
      "metadata": {
        "id": "DKYtgu-blgGL",
        "colab": {
          "base_uri": "https://localhost:8080/"
        },
        "outputId": "629dd434-7329-4495-8732-7009d31c5791"
      },
      "outputs": [
        {
          "output_type": "stream",
          "name": "stdout",
          "text": [
            "State: [-0.44516084 -0.00159449]\n",
            "Reward: -1.0\n",
            "Done: False\n"
          ]
        }
      ],
      "source": [
        "action = 0\n",
        "state, reward, done, _, _ = env.step(action)\n",
        "print(f\"State: {state}\")\n",
        "print(f\"Reward: {reward}\")\n",
        "print(f\"Done: {done}\")"
      ]
    },
    {
      "cell_type": "markdown",
      "metadata": {
        "id": "GCUIOuWYq0Nq"
      },
      "source": [
        "### 인공지능 정책 정의하기\n",
        "\n",
        "강화 학습에서 정책은 인공지능의 두뇌입니다. 인공지능이 변화하는 환경 속에서 어떻게 행동할지를 결정하는 지침으로 생각할 수 있습니다. 가장 단순한 형태의 정책으로는 여러분이 취할 수 있는 행동 중에서 아무거나 (샘플링하여) 고르는 것이 있겠습니다."
      ]
    },
    {
      "cell_type": "code",
      "execution_count": 6,
      "metadata": {
        "id": "1o18p51sq0lv"
      },
      "outputs": [],
      "source": [
        "class RandomPolicy():\n",
        "    def __init__(self, action_space):\n",
        "        self.action_space = action_space\n",
        "\n",
        "    def __call__(self, state):\n",
        "        return self.action_space.sample()"
      ]
    },
    {
      "cell_type": "markdown",
      "metadata": {
        "id": "WBvVYPQrq3h_"
      },
      "source": [
        "### 환경과 상호작용하기\n",
        "\n",
        "정책이 있다면, 여러분은 주어진 상황에서 어떤 행동을 취해야 할지 결정할 수 있습니다. 그럼 이제 본격적으로 환경 속에 들어가서 직접 부딪혀볼까요?\n",
        "\n",
        "여러분이 어떤 행동을 취하면, 환경은 여러분에게 보상을 줍니다. 이 보상은 여러분이 좋은 행동을 했는지, 나쁜 행동을 했는지 알려주는 값입니다. 그리고 여러분이 취한 행동에 따라 환경은 변화하고, 이 변화한 환경을 여러분은 다시 관찰할 수 있습니다. 그리고 여러분은 또다시 (여러분이 관찰한 결과를 토대로) 어떤 행동을 취할지 결정합니다. 강화 학습은 이 과정을 반복하며 진행됩니다."
      ]
    },
    {
      "cell_type": "code",
      "execution_count": 7,
      "metadata": {
        "id": "mwtH_tezxFYm",
        "colab": {
          "base_uri": "https://localhost:8080/",
          "height": 468
        },
        "outputId": "b080f9a6-3402-4b98-f9c2-25aeb6084fba"
      },
      "outputs": [
        {
          "output_type": "stream",
          "name": "stdout",
          "text": [
            "Moviepy - Building video /content/video/random-agent-episode-0.mp4.\n",
            "Moviepy - Writing video /content/video/random-agent-episode-0.mp4\n",
            "\n"
          ]
        },
        {
          "output_type": "stream",
          "name": "stderr",
          "text": [
            "                                                  "
          ]
        },
        {
          "output_type": "stream",
          "name": "stdout",
          "text": [
            "Moviepy - Done !\n",
            "Moviepy - video ready /content/video/random-agent-episode-0.mp4\n"
          ]
        },
        {
          "output_type": "stream",
          "name": "stderr",
          "text": [
            "\r"
          ]
        },
        {
          "output_type": "stream",
          "name": "stdout",
          "text": [
            "Moviepy - Building video /content/video/random-agent-episode-0.mp4.\n",
            "Moviepy - Writing video /content/video/random-agent-episode-0.mp4\n",
            "\n"
          ]
        },
        {
          "output_type": "stream",
          "name": "stderr",
          "text": [
            "                                                              "
          ]
        },
        {
          "output_type": "stream",
          "name": "stdout",
          "text": [
            "Moviepy - Done !\n",
            "Moviepy - video ready /content/video/random-agent-episode-0.mp4\n"
          ]
        },
        {
          "output_type": "stream",
          "name": "stderr",
          "text": [
            "\r"
          ]
        },
        {
          "output_type": "execute_result",
          "data": {
            "text/plain": [
              "<IPython.core.display.HTML object>"
            ],
            "text/html": [
              "\n",
              "    <video width=400 controls>\n",
              "          <source src=\"data:video/mp4;base64,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\" type=\"video/mp4\">\n",
              "    </video>\n",
              "    "
            ]
          },
          "metadata": {},
          "execution_count": 7
        }
      ],
      "source": [
        "env = gym.make(\"MountainCar-v0\", render_mode=\"rgb_array\")\n",
        "env = RecordVideo(env, 'video', name_prefix='random-agent')\n",
        "\n",
        "agent = RandomPolicy(env.action_space)\n",
        "state, _ = env.reset()\n",
        "env.start_video_recorder()\n",
        "\n",
        "for t in range(100):\n",
        "    action = agent(state)\n",
        "    state, reward, done, _, _ = env.step(action)\n",
        "    env.render()\n",
        "\n",
        "env.close()\n",
        "view_video('random-agent')"
      ]
    },
    {
      "cell_type": "markdown",
      "metadata": {
        "id": "3nSS-EoM3Nh1"
      },
      "source": [
        "### BONUS: 강화 학습 에이전트 학습하기"
      ]
    },
    {
      "cell_type": "code",
      "execution_count": 8,
      "metadata": {
        "id": "MxmeXv3xlrgD",
        "colab": {
          "base_uri": "https://localhost:8080/"
        },
        "outputId": "b0612d6e-524b-4271-b0c5-51745feda102"
      },
      "outputs": [
        {
          "output_type": "stream",
          "name": "stderr",
          "text": [
            "2024-03-09 03:21:39,251\tINFO worker.py:1724 -- Started a local Ray instance.\n",
            "2024-03-09 03:21:56,555\tINFO trainable.py:164 -- Trainable.setup took 19.756 seconds. If your trainable is slow to initialize, consider setting reuse_actors=True to reduce actor creation overheads.\n"
          ]
        }
      ],
      "source": [
        "%%capture\n",
        "from ray.rllib.algorithms.ppo import PPOConfig\n",
        "from ray.tune.logger import pretty_print\n",
        "\n",
        "algo = (\n",
        "    PPOConfig()\n",
        "    .rollouts(num_rollout_workers=1)\n",
        "    .resources(num_gpus=1)\n",
        "    .environment(env=\"MountainCar-v0\")\n",
        "    .build()\n",
        ")\n",
        "\n",
        "for i in range(2):\n",
        "    algo.train()"
      ]
    },
    {
      "cell_type": "code",
      "execution_count": 9,
      "metadata": {
        "id": "Wlsvax9I3Nh2",
        "colab": {
          "base_uri": "https://localhost:8080/",
          "height": 524
        },
        "outputId": "2e6575df-ff5c-4d42-fc14-7db0fb2aee2b"
      },
      "outputs": [
        {
          "output_type": "stream",
          "name": "stderr",
          "text": [
            "/usr/local/lib/python3.10/dist-packages/ipykernel/ipkernel.py:283: DeprecationWarning: `should_run_async` will not call `transform_cell` automatically in the future. Please pass the result to `transformed_cell` argument and any exception that happen during thetransform in `preprocessing_exc_tuple` in IPython 7.17 and above.\n",
            "  and should_run_async(code)\n"
          ]
        },
        {
          "output_type": "stream",
          "name": "stdout",
          "text": [
            "Moviepy - Building video /content/video/ppo-agent-episode-0.mp4.\n",
            "Moviepy - Writing video /content/video/ppo-agent-episode-0.mp4\n",
            "\n"
          ]
        },
        {
          "output_type": "stream",
          "name": "stderr",
          "text": []
        },
        {
          "output_type": "stream",
          "name": "stdout",
          "text": [
            "Moviepy - Done !\n",
            "Moviepy - video ready /content/video/ppo-agent-episode-0.mp4\n",
            "Moviepy - Building video /content/video/ppo-agent-episode-0.mp4.\n",
            "Moviepy - Writing video /content/video/ppo-agent-episode-0.mp4\n",
            "\n"
          ]
        },
        {
          "output_type": "stream",
          "name": "stderr",
          "text": [
            "                                                              "
          ]
        },
        {
          "output_type": "stream",
          "name": "stdout",
          "text": [
            "Moviepy - Done !\n",
            "Moviepy - video ready /content/video/ppo-agent-episode-0.mp4\n"
          ]
        },
        {
          "output_type": "stream",
          "name": "stderr",
          "text": [
            "\r"
          ]
        },
        {
          "output_type": "execute_result",
          "data": {
            "text/plain": [
              "<IPython.core.display.HTML object>"
            ],
            "text/html": [
              "\n",
              "    <video width=400 controls>\n",
              "          <source src=\"data:video/mp4;base64,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\" type=\"video/mp4\">\n",
              "    </video>\n",
              "    "
            ]
          },
          "metadata": {},
          "execution_count": 9
        }
      ],
      "source": [
        "env = gym.make(\"MountainCar-v0\", render_mode=\"rgb_array\")\n",
        "env = RecordVideo(env, 'video', name_prefix='ppo-agent')\n",
        "\n",
        "state, _ = env.reset()\n",
        "env.start_video_recorder()\n",
        "\n",
        "for t in range(100):\n",
        "    action = algo.compute_single_action(state)\n",
        "    state, reward, done, _, _ = env.step(action)\n",
        "    env.render()\n",
        "\n",
        "env.close()\n",
        "view_video('ppo-agent')"
      ]
    },
    {
      "cell_type": "markdown",
      "metadata": {
        "id": "k3AxNEO33Nh2"
      },
      "source": [
        "# 강화 학습 환경 직접 만져보기"
      ]
    },
    {
      "cell_type": "markdown",
      "metadata": {
        "id": "_icf0Z8d3Nh2"
      },
      "source": [
        "### 블랙잭"
      ]
    },
    {
      "cell_type": "code",
      "execution_count": null,
      "metadata": {
        "id": "K_ASFOJm3Nh2"
      },
      "outputs": [],
      "source": [
        "# Create the Blackjack environment\n",
        "env = gym.make('Blackjack-v0')\n",
        "\n",
        "# Reset the environment\n",
        "state = env.reset()\n",
        "\n",
        "done = False\n",
        "while not done:\n",
        "    # Choose a random action\n",
        "    action = ???\n",
        "\n",
        "    # Take a step in the environment\n",
        "    state, reward, done, info = env.step(action)\n",
        "\n",
        "    # Print the current state, reward, and whether the episode is done\n",
        "    print('State:', state)\n",
        "    print('Reward:', reward)\n",
        "    print('Done:', done)\n",
        "\n",
        "# Close the environment\n",
        "env.close()\n"
      ]
    },
    {
      "cell_type": "markdown",
      "metadata": {
        "id": "8MJq9f7M3Nh3"
      },
      "source": [
        "### Tic-Tac-Toe"
      ]
    },
    {
      "cell_type": "code",
      "execution_count": null,
      "metadata": {
        "id": "03_EWc543Nh3"
      },
      "outputs": [],
      "source": [
        "import numpy as np\n",
        "import gymnasium as gym\n",
        "from gymnasium import spaces\n",
        "\n",
        "class TicTacToeEnv(gym.Env):\n",
        "    def __init__(self):\n",
        "        self.board = np.zeros((3, 3), dtype=int)\n",
        "        self.current_player = 1\n",
        "        self.action_space = spaces.Discrete(9)\n",
        "        self.observation_space = spaces.Box(low=0, high=1, shape=(3, 3), dtype=int)\n",
        "\n",
        "    def reset(self):\n",
        "        self.board = np.zeros((3, 3), dtype=int)\n",
        "        self.current_player = 1\n",
        "        return self.board\n",
        "\n",
        "    def step(self, action):\n",
        "        row = action // 3\n",
        "        col = action % 3\n",
        "\n",
        "        if self.board[row, col] != 0:\n",
        "            return self.board, -1, False, False, {}\n",
        "\n",
        "        self.board[row, col] = self.current_player\n",
        "\n",
        "        if self._check_winner(self.current_player):\n",
        "            return self.board, 1, True, False, {}\n",
        "\n",
        "        if np.count_nonzero(self.board) == 9:\n",
        "            return self.board, 0, True, False, {}\n",
        "\n",
        "        self.current_player = -self.current_player\n",
        "        return self.board, 0, False, False, {}\n",
        "\n",
        "    def render(self):\n",
        "        print(self.board)\n",
        "\n",
        "    def _check_winner(self, player):\n",
        "        for i in range(3):\n",
        "            if np.all(self.board[i, :] == player) or np.all(self.board[:, i] == player):\n",
        "                return True\n",
        "        if np.all(np.diag(self.board) == player) or np.all(np.diag(np.fliplr(self.board)) == player):\n",
        "            return True\n",
        "        return False"
      ]
    },
    {
      "cell_type": "code",
      "execution_count": null,
      "metadata": {
        "id": "rIf7lpfe3Nh3"
      },
      "outputs": [],
      "source": [
        "env = TicTacToeEnv()\n",
        "state = env.reset()\n",
        "env.render()\n",
        "\n",
        "done = False\n",
        "while not done:\n",
        "    action = ?????\n",
        "    state, reward, done, _ = env.step(action)\n",
        "    env.render()"
      ]
    }
  ],
  "metadata": {
    "accelerator": "GPU",
    "colab": {
      "gpuType": "T4",
      "provenance": [],
      "include_colab_link": true
    },
    "kernelspec": {
      "display_name": "Python 3",
      "name": "python3"
    },
    "language_info": {
      "codemirror_mode": {
        "name": "ipython",
        "version": 3
      },
      "file_extension": ".py",
      "mimetype": "text/x-python",
      "name": "python",
      "nbconvert_exporter": "python",
      "pygments_lexer": "ipython3",
      "version": "3.9.6"
    }
  },
  "nbformat": 4,
  "nbformat_minor": 0
}