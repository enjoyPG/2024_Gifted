{
  "cells": [
    {
      "cell_type": "markdown",
      "metadata": {
        "id": "view-in-github",
        "colab_type": "text"
      },
      "source": [
        "<a href=\"https://colab.research.google.com/github/enjoyPG/2024_Gifted/blob/main/02_240310_Bandit/bandit.ipynb\" target=\"_parent\"><img src=\"https://colab.research.google.com/assets/colab-badge.svg\" alt=\"Open In Colab\"/></a>"
      ]
    },
    {
      "cell_type": "markdown",
      "metadata": {
        "id": "kUJwZHWqGlQZ"
      },
      "source": [
        "# 강화 학습 환경 복습"
      ]
    },
    {
      "cell_type": "code",
      "execution_count": 1,
      "metadata": {
        "id": "RYvyfEy3GlQd",
        "colab": {
          "base_uri": "https://localhost:8080/"
        },
        "outputId": "63b33040-0008-4118-d3ae-67f1f2831b9d"
      },
      "outputs": [
        {
          "output_type": "stream",
          "name": "stdout",
          "text": [
            "Collecting gymnasium[classic-control]\n",
            "  Downloading gymnasium-0.29.1-py3-none-any.whl (953 kB)\n",
            "\u001b[?25l     \u001b[90m━━━━━━━━━━━━━━━━━━━━━━━━━━━━━━━━━━━━━━━━\u001b[0m \u001b[32m0.0/953.9 kB\u001b[0m \u001b[31m?\u001b[0m eta \u001b[36m-:--:--\u001b[0m\r\u001b[2K     \u001b[91m━━━━━━━━━\u001b[0m\u001b[90m╺\u001b[0m\u001b[90m━━━━━━━━━━━━━━━━━━━━━━━━━━━━━━\u001b[0m \u001b[32m225.3/953.9 kB\u001b[0m \u001b[31m6.6 MB/s\u001b[0m eta \u001b[36m0:00:01\u001b[0m\r\u001b[2K     \u001b[91m━━━━━━━━━━━━━━━━━━━━━━━━━━━━━━━━━━━━━━━\u001b[0m\u001b[91m╸\u001b[0m \u001b[32m952.3/953.9 kB\u001b[0m \u001b[31m17.9 MB/s\u001b[0m eta \u001b[36m0:00:01\u001b[0m\r\u001b[2K     \u001b[90m━━━━━━━━━━━━━━━━━━━━━━━━━━━━━━━━━━━━━━━━\u001b[0m \u001b[32m953.9/953.9 kB\u001b[0m \u001b[31m13.1 MB/s\u001b[0m eta \u001b[36m0:00:00\u001b[0m\n",
            "\u001b[?25hRequirement already satisfied: numpy>=1.21.0 in /usr/local/lib/python3.10/dist-packages (from gymnasium[classic-control]) (1.25.2)\n",
            "Requirement already satisfied: cloudpickle>=1.2.0 in /usr/local/lib/python3.10/dist-packages (from gymnasium[classic-control]) (2.2.1)\n",
            "Requirement already satisfied: typing-extensions>=4.3.0 in /usr/local/lib/python3.10/dist-packages (from gymnasium[classic-control]) (4.10.0)\n",
            "Collecting farama-notifications>=0.0.1 (from gymnasium[classic-control])\n",
            "  Downloading Farama_Notifications-0.0.4-py3-none-any.whl (2.5 kB)\n",
            "Requirement already satisfied: pygame>=2.1.3 in /usr/local/lib/python3.10/dist-packages (from gymnasium[classic-control]) (2.5.2)\n",
            "Installing collected packages: farama-notifications, gymnasium\n",
            "Successfully installed farama-notifications-0.0.4 gymnasium-0.29.1\n"
          ]
        }
      ],
      "source": [
        "!pip install gymnasium[classic-control]"
      ]
    },
    {
      "cell_type": "markdown",
      "metadata": {
        "id": "hBm9msrrGlQe"
      },
      "source": [
        "### 강화 학습 문제를 직접 풀어낼 정책 정의\n",
        "\n",
        "강화 학습에서는 어떤 함수를 학습하고자 하는 걸까요? 에이전트 안에는 상태 관측값(입력)을 받고 그것을 앞으로 취해야 할 최적의 행동(출력)에 매핑하는 함수가 있습니다. 예를 들어, 미로 속 에이전트의 현재 상태가 $(2, 3)$ 좌표라면, 에이전트 안의 함수는 이 입력값을 \"오른쪽으로 이동\"이라는 출력값에 매핑하는 것이 될 수 있습니다. 이 함수를 $\\pi$라고 한다면, 아래와 같이 수식으로 쓸 수 있습니다.\n",
        "$$\n",
        "\\pi((2, 3)) = \\text{\"오른쪽으로 이동\"}\n",
        "$$\n",
        "강화 학습 용어로 이 함수를 정책(policy)이라고 부릅니다."
      ]
    },
    {
      "cell_type": "code",
      "execution_count": null,
      "metadata": {
        "id": "Odg1de0dGlQf"
      },
      "outputs": [],
      "source": [
        "def policy(state):\n",
        "    x_position = state[0]\n",
        "    x_velocity = state[1]\n",
        "\n",
        "    if x_velocity > 0:\n",
        "        action = 2\n",
        "    elif x_velocity < 0:\n",
        "        action = 0\n",
        "    else:\n",
        "        if x_position > -0.6:\n",
        "            action = 0\n",
        "        else:\n",
        "            action = 2\n",
        "\n",
        "    return action"
      ]
    },
    {
      "cell_type": "markdown",
      "metadata": {
        "id": "pVhsenHaGlQf"
      },
      "source": [
        "### 강화 학습이 돌아가는 환경의 코드 복습\n",
        "\n",
        "1. 인공지능 모델은 환경의 현재 상태(state)를 관찰할 수 있습니다. 미로 찾기 문제에서 환경의 현재 상태란 미로 속 현재 위치를 의미합니다. 예를 들어, 모델이 미로의 $(2, 3)$ 좌표에 있다면, 이 좌표는 현재 상태를 나타냅니다.\n",
        "\n",
        "2. 인공지능 모델은 관찰된 상태로부터 앞으로 취할 행동(action)을 결정합니다. 양갈래 길 중에서 어디로 갈지 결정하는 것 등이 그 예시가 될 수 있습니다.\n",
        "\n",
        "3. 환경은 상태를 변경(transition)시키고 그 행동에 대한 보상(reward)을 생성합니다. 인공지능 모델은 그 상태와 보상을 다 받습니다. 미로 찾기 문제에서 환경의 변화란 인공지능 모델의 (앞선 결정에 따른) 미로 속 위치 변화를 의미합니다. 예를 들어, '오른쪽으로 이동' 행동을 취하면, 에이전트의 위치 좌표가 $(2, 3)$에서 $(2, 4)$로 바뀔 수 있습니다. 보상은 출구를 찾았을 때 주어지는 경품이나 막다른 길에 도달했을 때 받는 페널티 등을 생각해 볼 수 있습니다.\n",
        "\n",
        "4.  이 새로운 정보(환경의 변화와 이에 따른 보상)를 사용하여 인공지능은 그런 행동이 좋아 그걸 반복해야 하는지, 또는 좋지 않아 회피해야 하는지 결정할 수 있습니다. 완료될 때까지 (done) 이 관측-행동-보상 사이클은 계속됩니다."
      ]
    },
    {
      "cell_type": "code",
      "execution_count": null,
      "metadata": {
        "id": "FIifUZzTGlQg"
      },
      "outputs": [],
      "source": [
        "import gymnasium as gym\n",
        "\n",
        "env = gym.make('MountainCar-v0')\n",
        "state, _ = env.reset()\n",
        "print(\"Initial state:\", state)\n",
        "\n",
        "done = False\n",
        "total_reward = 0\n",
        "while not done:\n",
        "    action = policy(state)\n",
        "    print(\"Chose action:\", action)\n",
        "    state, reward, done, _, _ = env.step(action)\n",
        "    total_reward += reward\n",
        "    print(\"New state:\", state)\n",
        "    print(\"Reward:\", reward)\n",
        "\n",
        "print(\"Final state:\", state)\n",
        "print(\"Total reward:\", total_reward)\n",
        "env.close()\n"
      ]
    },
    {
      "cell_type": "markdown",
      "metadata": {
        "id": "xpCeUURYGlQg"
      },
      "source": [
        "### 환경 직접 만들어보기"
      ]
    },
    {
      "cell_type": "code",
      "execution_count": null,
      "metadata": {
        "id": "Y_KbEPG3GlQh"
      },
      "outputs": [],
      "source": [
        "class MyEnv(gym.Env):\n",
        "    def __init__(self):\n",
        "        self.observation_space = gym.spaces.Discrete(7, start=-3)\n",
        "        self.action_space = gym.spaces.Discrete(2)\n",
        "        self.num_steps = 0\n",
        "\n",
        "    def reset(self):\n",
        "        state = 0\n",
        "        return state\n",
        "\n",
        "    def step(self, action):\n",
        "        self.num_steps += 1\n",
        "\n",
        "        if action == 0:\n",
        "            next_state = state - 1\n",
        "        else:\n",
        "            next_state = state + 1\n",
        "\n",
        "        if next_state > 3:\n",
        "            next_state = 3\n",
        "        elif next_state < -3:\n",
        "            next_state = -3\n",
        "\n",
        "        reward = {\n",
        "            -3: 1,\n",
        "            -2: 1,\n",
        "            -1: 1,\n",
        "            0: 0,\n",
        "            1: -1,\n",
        "            2: -1,\n",
        "            3: 10\n",
        "        }[next_state]\n",
        "\n",
        "        done = self.num_steps >= 3\n",
        "        return next_state, reward, done, {}\n"
      ]
    },
    {
      "cell_type": "code",
      "execution_count": null,
      "metadata": {
        "id": "08bHyZglGlQh"
      },
      "outputs": [],
      "source": [
        "class StudentMDP(gym.Env):\n",
        "    def __init__(self):\n",
        "        # 0: 수업, 1: 야자, 2: 집, 3: 잘침, 4: 못침\n",
        "        self.observation_space = gym.spaces.Discrete(5)\n",
        "\n",
        "        # 0: 공부, 1: 딴짓, 2: 땡땡이, 3: 쇼츠보기, 4: 벼락치기, 5: 수면\n",
        "        self.action_space = gym.spaces.Discrete(6)\n",
        "\n",
        "    def reset(self):\n",
        "        state = ???\n",
        "        return state\n",
        "\n",
        "    def step(self, action):\n",
        "        state = ???\n",
        "        reward = ???\n",
        "        done = ???\n",
        "        return state, reward, done, {}"
      ]
    },
    {
      "cell_type": "markdown",
      "metadata": {
        "id": "uKdf5eVmGlQi"
      },
      "source": [
        "# 슬롯머신 정복하기\n"
      ]
    },
    {
      "cell_type": "markdown",
      "metadata": {
        "id": "mulU5ZrmGlQi"
      },
      "source": [
        "### 슬롯머신 환경 구현하기\n",
        "\n",
        "각각의 밴딧 $i = 1, \\cdots, n$에 대해, 먼저 랜덤하게 실제 가치 $\\mu_{i} \\sim N(0, 1)$를 평균 0 분산 1인 표준정규분포에서 추출해 정해줍니다. 그리고 $i$번 째 밴딧을 고를 경우, 받을 수 있는 보상은 다음과 같이 정해줍니다:\n",
        "$$\n",
        "r_{t} = \\mu_{i} + \\varepsilon \\quad \\text{where} \\quad \\varepsilon \\sim N(0, 1)\n",
        "$$\n",
        "즉, $i$번 째 밴딧을 골랐을 때의 보상은, 그 밴딧의 실제 가치 $\\mu_{i}$에 랜덤한 표준 정규 노이즈 $\\varepsilon \\sim N(0, 1)$을 더한 것입니다."
      ]
    },
    {
      "cell_type": "code",
      "source": [
        "import numpy as np\n",
        "np.random.normal(size=10)"
      ],
      "metadata": {
        "id": "xMDyPnEZHo0o",
        "outputId": "06f27f62-9697-49ee-bfeb-ddba1f0c0aae",
        "colab": {
          "base_uri": "https://localhost:8080/"
        }
      },
      "execution_count": 2,
      "outputs": [
        {
          "output_type": "execute_result",
          "data": {
            "text/plain": [
              "array([-1.82085546, -1.23774217, -0.86329291,  0.63077839,  0.87777256,\n",
              "        1.8267915 , -0.97923381, -1.41078081,  0.34346538,  0.34558813])"
            ]
          },
          "metadata": {},
          "execution_count": 2
        }
      ]
    },
    {
      "cell_type": "code",
      "execution_count": 4,
      "metadata": {
        "id": "-iZXJ81RGlQi"
      },
      "outputs": [],
      "source": [
        "import numpy as np\n",
        "import gymnasium as gym\n",
        "\n",
        "class BanditEnv(gym.Env):\n",
        "    def __init__(self, num_bandits):\n",
        "        self.num_bandits = num_bandits # 슬롯머신의 갯수\n",
        "        self.action_space = list(range(num_bandits))\n",
        "        self.observation_space = [0]\n",
        "\n",
        "    def reset(self):\n",
        "        self.mean = np.random.normal(size=self.num_bandits)\n",
        "        return 0\n",
        "\n",
        "    def step(self, action):\n",
        "        state = 0\n",
        "        mean = self.mean[action]\n",
        "        reward = mean + np.random.normal()\n",
        "        done = False\n",
        "        return state, reward, done, {}"
      ]
    },
    {
      "cell_type": "code",
      "source": [
        "env = BanditEnv(10)\n",
        "state = env.reset()\n",
        "\n",
        "total_reward = 0\n",
        "for t in range(100):\n",
        "  action = 0\n",
        "  state, reward, done, _ = env.step(action)\n",
        "  print(f\"Action: {action}\")\n",
        "  print(f\"Reward: {reward}\")\n",
        "  total_reward += reward\n",
        "\n",
        "print(f\"Total Reward: {total_reward}\")"
      ],
      "metadata": {
        "colab": {
          "base_uri": "https://localhost:8080/"
        },
        "id": "t6B7aphONqvY",
        "outputId": "15927dfe-7924-4e84-d2c1-d4630701ed16"
      },
      "execution_count": 6,
      "outputs": [
        {
          "output_type": "stream",
          "name": "stdout",
          "text": [
            "Action: 0\n",
            "Reward: 0.5353739085792703\n",
            "Action: 0\n",
            "Reward: 0.93381747388064\n",
            "Action: 0\n",
            "Reward: 1.417918466337206\n",
            "Action: 0\n",
            "Reward: 1.0759017287689787\n",
            "Action: 0\n",
            "Reward: 1.759323251566009\n",
            "Action: 0\n",
            "Reward: 1.461458892779619\n",
            "Action: 0\n",
            "Reward: -0.07719636653486983\n",
            "Action: 0\n",
            "Reward: 2.3007523150697526\n",
            "Action: 0\n",
            "Reward: 1.614754491889604\n",
            "Action: 0\n",
            "Reward: 0.2623849652440242\n",
            "Action: 0\n",
            "Reward: 3.6946744260306863\n",
            "Action: 0\n",
            "Reward: 0.9670428795779351\n",
            "Action: 0\n",
            "Reward: 0.80080404534786\n",
            "Action: 0\n",
            "Reward: -0.8097381926552143\n",
            "Action: 0\n",
            "Reward: -0.2552781785976417\n",
            "Action: 0\n",
            "Reward: 1.5717834277045113\n",
            "Action: 0\n",
            "Reward: 1.0631919882466665\n",
            "Action: 0\n",
            "Reward: -0.3761386252041472\n",
            "Action: 0\n",
            "Reward: 0.6334064335176675\n",
            "Action: 0\n",
            "Reward: 1.993935502573685\n",
            "Action: 0\n",
            "Reward: 1.1201190390209457\n",
            "Action: 0\n",
            "Reward: -0.0827058853197542\n",
            "Action: 0\n",
            "Reward: -0.49685310227100765\n",
            "Action: 0\n",
            "Reward: 0.5638165416132384\n",
            "Action: 0\n",
            "Reward: -0.4259602352439109\n",
            "Action: 0\n",
            "Reward: 0.16118138201461563\n",
            "Action: 0\n",
            "Reward: -0.07887153243868017\n",
            "Action: 0\n",
            "Reward: 1.8524050139970574\n",
            "Action: 0\n",
            "Reward: 1.1549868423661407\n",
            "Action: 0\n",
            "Reward: 1.7823173149767904\n",
            "Action: 0\n",
            "Reward: 1.5302700047425184\n",
            "Action: 0\n",
            "Reward: 1.4785616386661564\n",
            "Action: 0\n",
            "Reward: 0.7448283204057491\n",
            "Action: 0\n",
            "Reward: 0.7483890049715805\n",
            "Action: 0\n",
            "Reward: 0.5776686057889286\n",
            "Action: 0\n",
            "Reward: 0.5725157087606099\n",
            "Action: 0\n",
            "Reward: 0.42140245433698076\n",
            "Action: 0\n",
            "Reward: 0.6694706374146064\n",
            "Action: 0\n",
            "Reward: -0.5510939875877208\n",
            "Action: 0\n",
            "Reward: 0.7639123850296963\n",
            "Action: 0\n",
            "Reward: -0.3218748545906096\n",
            "Action: 0\n",
            "Reward: 1.4871965238520735\n",
            "Action: 0\n",
            "Reward: 0.8541924413640732\n",
            "Action: 0\n",
            "Reward: 2.165179102260635\n",
            "Action: 0\n",
            "Reward: 0.5828935343499628\n",
            "Action: 0\n",
            "Reward: 1.354141541884284\n",
            "Action: 0\n",
            "Reward: 1.7735556183027996\n",
            "Action: 0\n",
            "Reward: 0.6098967645052442\n",
            "Action: 0\n",
            "Reward: 2.373589280151977\n",
            "Action: 0\n",
            "Reward: 0.34200139622403347\n",
            "Action: 0\n",
            "Reward: 2.0415482050551508\n",
            "Action: 0\n",
            "Reward: 0.7973771762429835\n",
            "Action: 0\n",
            "Reward: 2.9903544523257546\n",
            "Action: 0\n",
            "Reward: 0.3342015160866135\n",
            "Action: 0\n",
            "Reward: 1.7606703399260168\n",
            "Action: 0\n",
            "Reward: 0.11538992868729625\n",
            "Action: 0\n",
            "Reward: 1.6148218768111038\n",
            "Action: 0\n",
            "Reward: 0.37583926066718065\n",
            "Action: 0\n",
            "Reward: 1.177353062273334\n",
            "Action: 0\n",
            "Reward: 3.2475049407196748\n",
            "Action: 0\n",
            "Reward: 1.7186064925934401\n",
            "Action: 0\n",
            "Reward: 1.6618436098150955\n",
            "Action: 0\n",
            "Reward: 2.2917992299520176\n",
            "Action: 0\n",
            "Reward: 1.7155813870381373\n",
            "Action: 0\n",
            "Reward: 1.3652464524942776\n",
            "Action: 0\n",
            "Reward: -0.5466592799129089\n",
            "Action: 0\n",
            "Reward: 1.9556996556256085\n",
            "Action: 0\n",
            "Reward: 1.9625858916515908\n",
            "Action: 0\n",
            "Reward: 0.7331871958274123\n",
            "Action: 0\n",
            "Reward: 2.4002482969953896\n",
            "Action: 0\n",
            "Reward: 0.8278951161582375\n",
            "Action: 0\n",
            "Reward: 1.3629223418184777\n",
            "Action: 0\n",
            "Reward: -1.028737458135793\n",
            "Action: 0\n",
            "Reward: 2.2260830395088984\n",
            "Action: 0\n",
            "Reward: 2.0327707294148754\n",
            "Action: 0\n",
            "Reward: -0.48977961560265837\n",
            "Action: 0\n",
            "Reward: 0.8030875187373769\n",
            "Action: 0\n",
            "Reward: 1.9728584724358504\n",
            "Action: 0\n",
            "Reward: 1.958772351392736\n",
            "Action: 0\n",
            "Reward: 0.827043485752551\n",
            "Action: 0\n",
            "Reward: -0.7149611818953538\n",
            "Action: 0\n",
            "Reward: 1.7387057555877568\n",
            "Action: 0\n",
            "Reward: 1.3778553514628178\n",
            "Action: 0\n",
            "Reward: 1.1925182245090977\n",
            "Action: 0\n",
            "Reward: 0.4945276259760334\n",
            "Action: 0\n",
            "Reward: 0.7896683268945237\n",
            "Action: 0\n",
            "Reward: 0.541731378628417\n",
            "Action: 0\n",
            "Reward: 0.6033011955702298\n",
            "Action: 0\n",
            "Reward: -0.5129502414480067\n",
            "Action: 0\n",
            "Reward: -0.5602633223388291\n",
            "Action: 0\n",
            "Reward: 1.0419143534214597\n",
            "Action: 0\n",
            "Reward: -0.6092067168578117\n",
            "Action: 0\n",
            "Reward: 0.7406508226177329\n",
            "Action: 0\n",
            "Reward: 0.03084052432269191\n",
            "Action: 0\n",
            "Reward: 2.0970167249210308\n",
            "Action: 0\n",
            "Reward: 2.4061245512011604\n",
            "Action: 0\n",
            "Reward: 1.209165336218759\n",
            "Action: 0\n",
            "Reward: -0.39302732096056836\n",
            "Action: 0\n",
            "Reward: 2.16783468165793\n",
            "Action: 0\n",
            "Reward: 0.6063027666987302\n",
            "Total Reward: 98.74916884221477\n"
          ]
        }
      ]
    },
    {
      "cell_type": "markdown",
      "metadata": {
        "id": "D_tLBr7cGlQj"
      },
      "source": [
        "### 슬롯머신 풀어보기\n",
        "\n",
        "직접 위 환경과 상호작용하면서, 각 슬롯머신의 보상을 추정해보세요. 그리고 Python을 이용해 위 문제에서 $\\epsilon=0.1$과 $\\epsilon=0.01$에 대해 각각 $\\epsilon$-greedy 방법을 적용해 보세요. (초기값 $Q_{1}(i)$는 모두 0으로 설정.) 또한 $Q_{1}(i) = 5$인 완전 탐욕적인 알고리즘 ($\\epsilon=0$) 또한 Python으로 구현하여 그 결과를 비교해 보세요."
      ]
    },
    {
      "cell_type": "code",
      "execution_count": null,
      "metadata": {
        "id": "2WKkj0BjGlQj"
      },
      "outputs": [],
      "source": [
        "import numpy as np\n",
        "\n",
        "class EpsilonGreedyPolicy:\n",
        "    def __init__(self, num_bandits, epsilon):\n",
        "        self.num_bandits = num_bandits\n",
        "        self.epsilon = epsilon\n",
        "        ????\n",
        "\n",
        "    def select_action(self):\n",
        "        action = ????\n",
        "        return action\n",
        "\n",
        "\n",
        "env = BanditEnv(10)\n",
        "policy = EpsilonGreedyPolicy(10, 0.1)\n",
        "\n",
        "state = env.reset()\n",
        "total_reward = 0\n",
        "for t in range(100):\n",
        "    action = policy.select_action()\n",
        "    state, reward, done, _ = env.step(action)\n",
        "    print(\"Action:\", action, \"Reward:\", reward)\n",
        "    total_reward += reward\n",
        "\n",
        "print(\"Total reward:\", total_reward)"
      ]
    }
  ],
  "metadata": {
    "kernelspec": {
      "display_name": "Python 3",
      "name": "python3"
    },
    "language_info": {
      "codemirror_mode": {
        "name": "ipython",
        "version": 3
      },
      "file_extension": ".py",
      "mimetype": "text/x-python",
      "name": "python",
      "nbconvert_exporter": "python",
      "pygments_lexer": "ipython3",
      "version": "3.9.6"
    },
    "colab": {
      "provenance": [],
      "include_colab_link": true
    }
  },
  "nbformat": 4,
  "nbformat_minor": 0
}